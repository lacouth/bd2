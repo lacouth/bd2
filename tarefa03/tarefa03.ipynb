{
 "cells": [
  {
   "cell_type": "code",
   "execution_count": 1,
   "id": "fourth-facial",
   "metadata": {},
   "outputs": [],
   "source": [
    "%LOAD postgresql dbname=Filmes"
   ]
  },
  {
   "cell_type": "markdown",
   "id": "accomplished-family",
   "metadata": {},
   "source": [
    "## Script SQL para a Tarefa 03 - Banco de Dados II 2020.2\n",
    "### 28/02/2021\n",
    "### Patric Lacouth - 20191370047"
   ]
  },
  {
   "cell_type": "markdown",
   "id": "equivalent-louisiana",
   "metadata": {},
   "source": [
    "## Nas questões 1.1 a 1.5, crie e execute o que se pede. Use subconsultas/subqueries para essas questões (3,5).  \n",
    "## 1.1.   O que a seguinte consulta apresenta (0,5)?\n",
    "```SQL\n",
    "select f.titulo\n",
    "from filme f\n",
    "where f.codest in (select e.codest\n",
    "                   from estúdio e\n",
    "                   where nomeest like 'P%');\n",
    "```"
   ]
  },
  {
   "cell_type": "markdown",
   "id": "interested-tokyo",
   "metadata": {},
   "source": [
    "**R.: A consulta apresenta os filmes de estúdios que começam com a letra P**"
   ]
  },
  {
   "cell_type": "code",
   "execution_count": 23,
   "id": "concerned-spyware",
   "metadata": {},
   "outputs": [
    {
     "data": {
      "text/html": [
       "<table>\n",
       "<tr>\n",
       "<th>titulo</th>\n",
       "</tr>\n",
       "<tr>\n",
       "<td>Encontro Explosivo</td>\n",
       "</tr>\n",
       "<tr>\n",
       "<td>O Besouro Verde</td>\n",
       "</tr>\n",
       "<tr>\n",
       "<td>Comer, Rezar, Amar</td>\n",
       "</tr>\n",
       "<tr>\n",
       "<td>Coringa</td>\n",
       "</tr>\n",
       "<tr>\n",
       "<td>Nasce uma estrela</td>\n",
       "</tr>\n",
       "<tr>\n",
       "<td>PI</td>\n",
       "</tr>\n",
       "<tr>\n",
       "<td>Clube da Luta</td>\n",
       "</tr>\n",
       "</table>\n",
       "7 rows in set (0,00 sec)"
      ],
      "text/plain": [
       "+--------------------+\n",
       "| titulo             |\n",
       "+--------------------+\n",
       "| Encontro Explosivo |\n",
       "+--------------------+\n",
       "| O Besouro Verde    |\n",
       "+--------------------+\n",
       "| Comer, Rezar, Amar |\n",
       "+--------------------+\n",
       "| Coringa            |\n",
       "+--------------------+\n",
       "| Nasce uma estrela  |\n",
       "+--------------------+\n",
       "| PI                 |\n",
       "+--------------------+\n",
       "| Clube da Luta      |\n",
       "+--------------------+\n",
       "7 rows in set (0,00 sec)"
      ]
     },
     "execution_count": 23,
     "metadata": {},
     "output_type": "execute_result"
    }
   ],
   "source": [
    "select f.titulo\n",
    "from filme f\n",
    "where f.codest in (select e.codest\n",
    "                   from estudio e\n",
    "                   where nomeest like 'P%');"
   ]
  },
  {
   "cell_type": "markdown",
   "id": "unable-catholic",
   "metadata": {},
   "source": [
    "## 1.2. Mostre as descrições de categorias que estão na tabela Filme (associadas a filmes) (0,5)."
   ]
  },
  {
   "cell_type": "code",
   "execution_count": 7,
   "id": "aging-ocean",
   "metadata": {},
   "outputs": [
    {
     "data": {
      "text/html": [
       "<table>\n",
       "<tr>\n",
       "<th>desccateg</th>\n",
       "</tr>\n",
       "<tr>\n",
       "<td>Aventura</td>\n",
       "</tr>\n",
       "<tr>\n",
       "<td>Romance</td>\n",
       "</tr>\n",
       "<tr>\n",
       "<td>Ação</td>\n",
       "</tr>\n",
       "<tr>\n",
       "<td>Drama</td>\n",
       "</tr>\n",
       "</table>\n",
       "4 rows in set (0,00 sec)"
      ],
      "text/plain": [
       "+-----------+\n",
       "| desccateg |\n",
       "+-----------+\n",
       "| Aventura  |\n",
       "+-----------+\n",
       "| Romance   |\n",
       "+-----------+\n",
       "| Ação    |\n",
       "+-----------+\n",
       "| Drama     |\n",
       "+-----------+\n",
       "4 rows in set (0,00 sec)"
      ]
     },
     "execution_count": 7,
     "metadata": {},
     "output_type": "execute_result"
    }
   ],
   "source": [
    "SELECT c.desccateg \n",
    "FROM categoria c\n",
    "WHERE c.codcateg IN (SELECT f.codcateg FROM filme f);"
   ]
  },
  {
   "cell_type": "markdown",
   "id": "vertical-bones",
   "metadata": {},
   "source": [
    "## 1.3. Qual o nome do artista cujo nome de personagem é ‘Natalie’ (1,0)?"
   ]
  },
  {
   "cell_type": "code",
   "execution_count": 11,
   "id": "generous-coast",
   "metadata": {},
   "outputs": [
    {
     "data": {
      "text/html": [
       "<table>\n",
       "<tr>\n",
       "<th>nomeart</th>\n",
       "</tr>\n",
       "<tr>\n",
       "<td>Cameron Diaz</td>\n",
       "</tr>\n",
       "</table>\n",
       "1 row in set (0,00 sec)"
      ],
      "text/plain": [
       "+--------------+\n",
       "| nomeart      |\n",
       "+--------------+\n",
       "| Cameron Diaz |\n",
       "+--------------+\n",
       "1 row in set (0,00 sec)"
      ]
     },
     "execution_count": 11,
     "metadata": {},
     "output_type": "execute_result"
    }
   ],
   "source": [
    "SELECT a.nomeart \n",
    "FROM artista a\n",
    "WHERE a.codart IN (SELECT p.codart \n",
    "                   FROM personagem p\n",
    "                   WHERE p.nomepers ='Natalie');"
   ]
  },
  {
   "cell_type": "markdown",
   "id": "seasonal-knife",
   "metadata": {},
   "source": [
    "## 1.4 Existe algum artista cadastrado que não esteja na tabela Personagem (1,0)?"
   ]
  },
  {
   "cell_type": "code",
   "execution_count": 19,
   "id": "satellite-gnome",
   "metadata": {},
   "outputs": [
    {
     "data": {
      "text/html": [
       "<table>\n",
       "<tr>\n",
       "<th>codart</th>\n",
       "<th>nomeart</th>\n",
       "</tr>\n",
       "<tr>\n",
       "<td>6</td>\n",
       "<td>Tom Cruise</td>\n",
       "</tr>\n",
       "<tr>\n",
       "<td>7</td>\n",
       "<td>Rodrigo Santoro</td>\n",
       "</tr>\n",
       "<tr>\n",
       "<td>11</td>\n",
       "<td>Alessandra Negrini</td>\n",
       "</tr>\n",
       "<tr>\n",
       "<td>12</td>\n",
       "<td>Fernanda Montenegro</td>\n",
       "</tr>\n",
       "</table>\n",
       "4 rows in set (0,00 sec)"
      ],
      "text/plain": [
       "+--------+---------------------+\n",
       "| codart | nomeart             |\n",
       "+--------+---------------------+\n",
       "| 6      | Tom Cruise          |\n",
       "+--------+---------------------+\n",
       "| 7      | Rodrigo Santoro     |\n",
       "+--------+---------------------+\n",
       "| 11     | Alessandra Negrini  |\n",
       "+--------+---------------------+\n",
       "| 12     | Fernanda Montenegro |\n",
       "+--------+---------------------+\n",
       "4 rows in set (0,00 sec)"
      ]
     },
     "execution_count": 19,
     "metadata": {},
     "output_type": "execute_result"
    }
   ],
   "source": [
    "SELECT a.codart,a.nomeart \n",
    "FROM artista a\n",
    "WHERE a.codart NOT IN (SELECT p.codart FROM personagem p);"
   ]
  },
  {
   "cell_type": "markdown",
   "id": "decreased-basketball",
   "metadata": {},
   "source": [
    "## 1.5. Reescreva a consulta da questão 1.1 usando o operador exists (0,5)."
   ]
  },
  {
   "cell_type": "code",
   "execution_count": 31,
   "id": "meaningful-bradley",
   "metadata": {},
   "outputs": [
    {
     "data": {
      "text/html": [
       "<table>\n",
       "<tr>\n",
       "<th>titulo</th>\n",
       "</tr>\n",
       "<tr>\n",
       "<td>Encontro Explosivo</td>\n",
       "</tr>\n",
       "<tr>\n",
       "<td>O Besouro Verde</td>\n",
       "</tr>\n",
       "<tr>\n",
       "<td>Comer, Rezar, Amar</td>\n",
       "</tr>\n",
       "<tr>\n",
       "<td>Coringa</td>\n",
       "</tr>\n",
       "<tr>\n",
       "<td>Nasce uma estrela</td>\n",
       "</tr>\n",
       "<tr>\n",
       "<td>PI</td>\n",
       "</tr>\n",
       "<tr>\n",
       "<td>Clube da Luta</td>\n",
       "</tr>\n",
       "</table>\n",
       "7 rows in set (0,00 sec)"
      ],
      "text/plain": [
       "+--------------------+\n",
       "| titulo             |\n",
       "+--------------------+\n",
       "| Encontro Explosivo |\n",
       "+--------------------+\n",
       "| O Besouro Verde    |\n",
       "+--------------------+\n",
       "| Comer, Rezar, Amar |\n",
       "+--------------------+\n",
       "| Coringa            |\n",
       "+--------------------+\n",
       "| Nasce uma estrela  |\n",
       "+--------------------+\n",
       "| PI                 |\n",
       "+--------------------+\n",
       "| Clube da Luta      |\n",
       "+--------------------+\n",
       "7 rows in set (0,00 sec)"
      ]
     },
     "execution_count": 31,
     "metadata": {},
     "output_type": "execute_result"
    }
   ],
   "source": [
    "SELECT f.titulo\n",
    "FROM filme f\n",
    "WHERE EXISTS (SELECT *\n",
    "                   FROM estudio e\n",
    "                   WHERE e.nomeest LIKE 'P%' AND f.codest = e.codest);"
   ]
  },
  {
   "cell_type": "markdown",
   "id": "instrumental-saint",
   "metadata": {},
   "source": [
    "## 2. Crie uma tabela filmeEst (use create table as) que mostre os filmes (títulos) e seus estúdios (nomes) associados. Use um JOIN para isso. Consulte a tabela criada e mostre seus dados (1,0)."
   ]
  },
  {
   "cell_type": "code",
   "execution_count": 32,
   "id": "traditional-degree",
   "metadata": {},
   "outputs": [],
   "source": [
    "CREATE TABLE filmeEst AS\n",
    "    SELECT f.titulo AS titulo, e.nomeest AS estudio\n",
    "    FROM filme f JOIN estudio e ON f.codest = e.codest;"
   ]
  },
  {
   "cell_type": "code",
   "execution_count": 33,
   "id": "stock-meeting",
   "metadata": {},
   "outputs": [
    {
     "data": {
      "text/html": [
       "<table>\n",
       "<tr>\n",
       "<th>titulo</th>\n",
       "<th>estudio</th>\n",
       "</tr>\n",
       "<tr>\n",
       "<td>Encontro Explosivo</td>\n",
       "<td>Paramount</td>\n",
       "</tr>\n",
       "<tr>\n",
       "<td>O Besouro Verde</td>\n",
       "<td>Paramount</td>\n",
       "</tr>\n",
       "<tr>\n",
       "<td>Comer, Rezar, Amar</td>\n",
       "<td>Paramount</td>\n",
       "</tr>\n",
       "<tr>\n",
       "<td>Coringa</td>\n",
       "<td>Paramount</td>\n",
       "</tr>\n",
       "<tr>\n",
       "<td>Era uma vez em Hollywood</td>\n",
       "<td>Disney</td>\n",
       "</tr>\n",
       "<tr>\n",
       "<td>Nasce uma estrela</td>\n",
       "<td>Paramount</td>\n",
       "</tr>\n",
       "<tr>\n",
       "<td>PI</td>\n",
       "<td>Paramount</td>\n",
       "</tr>\n",
       "<tr>\n",
       "<td>The Matrix</td>\n",
       "<td>Warner</td>\n",
       "</tr>\n",
       "<tr>\n",
       "<td>Clube da Luta</td>\n",
       "<td>Paramount</td>\n",
       "</tr>\n",
       "<tr>\n",
       "<td>Superman</td>\n",
       "<td>Universal</td>\n",
       "</tr>\n",
       "</table>\n",
       "10 rows in set (0,00 sec)"
      ],
      "text/plain": [
       "+--------------------------+-----------+\n",
       "| titulo                   | estudio   |\n",
       "+--------------------------+-----------+\n",
       "| Encontro Explosivo       | Paramount |\n",
       "+--------------------------+-----------+\n",
       "| O Besouro Verde          | Paramount |\n",
       "+--------------------------+-----------+\n",
       "| Comer, Rezar, Amar       | Paramount |\n",
       "+--------------------------+-----------+\n",
       "| Coringa                  | Paramount |\n",
       "+--------------------------+-----------+\n",
       "| Era uma vez em Hollywood | Disney    |\n",
       "+--------------------------+-----------+\n",
       "| Nasce uma estrela        | Paramount |\n",
       "+--------------------------+-----------+\n",
       "| PI                       | Paramount |\n",
       "+--------------------------+-----------+\n",
       "| The Matrix               | Warner    |\n",
       "+--------------------------+-----------+\n",
       "| Clube da Luta            | Paramount |\n",
       "+--------------------------+-----------+\n",
       "| Superman                 | Universal |\n",
       "+--------------------------+-----------+\n",
       "10 rows in set (0,00 sec)"
      ]
     },
     "execution_count": 33,
     "metadata": {},
     "output_type": "execute_result"
    }
   ],
   "source": [
    "SELECT * FROM filmeEst;"
   ]
  },
  {
   "cell_type": "markdown",
   "id": "lucky-australia",
   "metadata": {},
   "source": [
    "## 3. Verifique o seguinte comando (1,5):\n",
    "\n",
    "```SQL\n",
    "select a.nomeart\n",
    "from artista a \n",
    "where a.codart in (select p.codart\n",
    "                  from personagem p\n",
    "                  where p.codfilme in (select f.codfilme\n",
    "                                     from filme f\n",
    "                                     where f.duracao > 120));\n",
    "```"
   ]
  },
  {
   "cell_type": "markdown",
   "id": "proved-patrol",
   "metadata": {},
   "source": [
    "**O que o comando retorna?**\n",
    "\n",
    "R.: O comando retorna o nome dos artistas que têm personagem em filmes com mais de 120 minutos de duração."
   ]
  },
  {
   "cell_type": "code",
   "execution_count": 34,
   "id": "expired-maryland",
   "metadata": {},
   "outputs": [
    {
     "data": {
      "text/html": [
       "<table>\n",
       "<tr>\n",
       "<th>nomeart</th>\n",
       "</tr>\n",
       "<tr>\n",
       "<td>Cameron Diaz</td>\n",
       "</tr>\n",
       "<tr>\n",
       "<td>Julia Roberts</td>\n",
       "</tr>\n",
       "<tr>\n",
       "<td>Fulano de Tal</td>\n",
       "</tr>\n",
       "<tr>\n",
       "<td>Brad Pitt</td>\n",
       "</tr>\n",
       "<tr>\n",
       "<td>Joaquin Phoenix</td>\n",
       "</tr>\n",
       "</table>\n",
       "5 rows in set (0,00 sec)"
      ],
      "text/plain": [
       "+-----------------+\n",
       "| nomeart         |\n",
       "+-----------------+\n",
       "| Cameron Diaz    |\n",
       "+-----------------+\n",
       "| Julia Roberts   |\n",
       "+-----------------+\n",
       "| Fulano de Tal   |\n",
       "+-----------------+\n",
       "| Brad Pitt       |\n",
       "+-----------------+\n",
       "| Joaquin Phoenix |\n",
       "+-----------------+\n",
       "5 rows in set (0,00 sec)"
      ]
     },
     "execution_count": 34,
     "metadata": {},
     "output_type": "execute_result"
    }
   ],
   "source": [
    "select a.nomeart\n",
    "from artista a \n",
    "where a.codart in (select p.codart\n",
    "                  from personagem p\n",
    "                  where p.codfilme in (select f.codfilme\n",
    "                                     from filme f\n",
    "                                     where f.duracao > 120));"
   ]
  },
  {
   "cell_type": "markdown",
   "id": "literary-venice",
   "metadata": {},
   "source": [
    "## 3.1 Reescreva-o usando JOIN."
   ]
  },
  {
   "cell_type": "code",
   "execution_count": 39,
   "id": "absent-perspective",
   "metadata": {},
   "outputs": [
    {
     "data": {
      "text/html": [
       "<table>\n",
       "<tr>\n",
       "<th>nomeart</th>\n",
       "</tr>\n",
       "<tr>\n",
       "<td>Cameron Diaz</td>\n",
       "</tr>\n",
       "<tr>\n",
       "<td>Julia Roberts</td>\n",
       "</tr>\n",
       "<tr>\n",
       "<td>Julia Roberts</td>\n",
       "</tr>\n",
       "<tr>\n",
       "<td>Joaquin Phoenix</td>\n",
       "</tr>\n",
       "<tr>\n",
       "<td>Fulano de Tal</td>\n",
       "</tr>\n",
       "<tr>\n",
       "<td>Brad Pitt</td>\n",
       "</tr>\n",
       "</table>\n",
       "6 rows in set (0,00 sec)"
      ],
      "text/plain": [
       "+-----------------+\n",
       "| nomeart         |\n",
       "+-----------------+\n",
       "| Cameron Diaz    |\n",
       "+-----------------+\n",
       "| Julia Roberts   |\n",
       "+-----------------+\n",
       "| Julia Roberts   |\n",
       "+-----------------+\n",
       "| Joaquin Phoenix |\n",
       "+-----------------+\n",
       "| Fulano de Tal   |\n",
       "+-----------------+\n",
       "| Brad Pitt       |\n",
       "+-----------------+\n",
       "6 rows in set (0,00 sec)"
      ]
     },
     "execution_count": 39,
     "metadata": {},
     "output_type": "execute_result"
    }
   ],
   "source": [
    "SELECT a.nomeart\n",
    "FROM artista a JOIN personagem p ON a.codart = p.codart JOIN filme f ON f.codfilme = p.codfilme\n",
    "WHERE f.duracao > 120;\n"
   ]
  },
  {
   "cell_type": "markdown",
   "id": "mighty-officer",
   "metadata": {},
   "source": [
    "## 3.2 Os resultados das consultas com subconsulta e com JOIN são semelhantes? Explique.\n",
    "\n",
    "R.: Os resultados são semelhantes mas não idênticos. Na consulta com JOIN o filtro do WHERE é aplicado para todas as linhas, no caso da consulta com IN o operador retorna TRUE apenas uma vez mesmo que na subconsulta apareçam dois resultados TRUE, por isso na consulta com JOIN artistas que aparecem em mais de um filme com mais de 120 minutos são contabilizados mais de uma vez."
   ]
  },
  {
   "cell_type": "markdown",
   "id": "destroyed-inspiration",
   "metadata": {},
   "source": [
    "## 4. Verifique o comando seguinte (1,5):\n",
    "\n",
    "```SQL\n",
    "select a.codart\n",
    "from artista a\n",
    "where pais = ‘USA’\n",
    "   INTERSECT\n",
    "select p.codart\n",
    "from personagem p;\n",
    "```"
   ]
  },
  {
   "cell_type": "code",
   "execution_count": 40,
   "id": "several-horse",
   "metadata": {},
   "outputs": [
    {
     "data": {
      "text/html": [
       "<table>\n",
       "<tr>\n",
       "<th>codart</th>\n",
       "</tr>\n",
       "<tr>\n",
       "<td>1</td>\n",
       "</tr>\n",
       "<tr>\n",
       "<td>3</td>\n",
       "</tr>\n",
       "<tr>\n",
       "<td>5</td>\n",
       "</tr>\n",
       "<tr>\n",
       "<td>4</td>\n",
       "</tr>\n",
       "<tr>\n",
       "<td>2</td>\n",
       "</tr>\n",
       "</table>\n",
       "5 rows in set (0,01 sec)"
      ],
      "text/plain": [
       "+--------+\n",
       "| codart |\n",
       "+--------+\n",
       "| 1      |\n",
       "+--------+\n",
       "| 3      |\n",
       "+--------+\n",
       "| 5      |\n",
       "+--------+\n",
       "| 4      |\n",
       "+--------+\n",
       "| 2      |\n",
       "+--------+\n",
       "5 rows in set (0,01 sec)"
      ]
     },
     "execution_count": 40,
     "metadata": {},
     "output_type": "execute_result"
    }
   ],
   "source": [
    "select a.codart\n",
    "from artista a\n",
    "where pais = 'USA'\n",
    "   INTERSECT\n",
    "select p.codart\n",
    "from personagem p;\n"
   ]
  },
  {
   "cell_type": "markdown",
   "id": "emerging-finland",
   "metadata": {},
   "source": [
    "## 4.1 O que o comando retorna?\n",
    "\n",
    "R.: O camando retorna os artistas que tem o país igual a 'USA' e também aparecem na tabela de personagens."
   ]
  },
  {
   "cell_type": "markdown",
   "id": "adapted-wisconsin",
   "metadata": {},
   "source": [
    "## 4.2 Refaça-o usando uma subquery."
   ]
  },
  {
   "cell_type": "code",
   "execution_count": 42,
   "id": "administrative-electric",
   "metadata": {},
   "outputs": [
    {
     "data": {
      "text/html": [
       "<table>\n",
       "<tr>\n",
       "<th>codart</th>\n",
       "</tr>\n",
       "<tr>\n",
       "<td>1</td>\n",
       "</tr>\n",
       "<tr>\n",
       "<td>2</td>\n",
       "</tr>\n",
       "<tr>\n",
       "<td>5</td>\n",
       "</tr>\n",
       "<tr>\n",
       "<td>3</td>\n",
       "</tr>\n",
       "<tr>\n",
       "<td>4</td>\n",
       "</tr>\n",
       "</table>\n",
       "5 rows in set (0,00 sec)"
      ],
      "text/plain": [
       "+--------+\n",
       "| codart |\n",
       "+--------+\n",
       "| 1      |\n",
       "+--------+\n",
       "| 2      |\n",
       "+--------+\n",
       "| 5      |\n",
       "+--------+\n",
       "| 3      |\n",
       "+--------+\n",
       "| 4      |\n",
       "+--------+\n",
       "5 rows in set (0,00 sec)"
      ]
     },
     "execution_count": 42,
     "metadata": {},
     "output_type": "execute_result"
    }
   ],
   "source": [
    "SELECT a.codart FROM artista a\n",
    "WHERE a.pais = 'USA' AND a.codart IN (SELECT p.codart FROM personagem p);"
   ]
  },
  {
   "cell_type": "markdown",
   "id": "thousand-talent",
   "metadata": {},
   "source": [
    "## 4.3 Depois, refaça-o usando JOIN."
   ]
  },
  {
   "cell_type": "code",
   "execution_count": 43,
   "id": "exotic-species",
   "metadata": {},
   "outputs": [
    {
     "data": {
      "text/html": [
       "<table>\n",
       "<tr>\n",
       "<th>codart</th>\n",
       "</tr>\n",
       "<tr>\n",
       "<td>1</td>\n",
       "</tr>\n",
       "<tr>\n",
       "<td>2</td>\n",
       "</tr>\n",
       "<tr>\n",
       "<td>3</td>\n",
       "</tr>\n",
       "<tr>\n",
       "<td>2</td>\n",
       "</tr>\n",
       "<tr>\n",
       "<td>5</td>\n",
       "</tr>\n",
       "<tr>\n",
       "<td>4</td>\n",
       "</tr>\n",
       "<tr>\n",
       "<td>3</td>\n",
       "</tr>\n",
       "</table>\n",
       "7 rows in set (0,00 sec)"
      ],
      "text/plain": [
       "+--------+\n",
       "| codart |\n",
       "+--------+\n",
       "| 1      |\n",
       "+--------+\n",
       "| 2      |\n",
       "+--------+\n",
       "| 3      |\n",
       "+--------+\n",
       "| 2      |\n",
       "+--------+\n",
       "| 5      |\n",
       "+--------+\n",
       "| 4      |\n",
       "+--------+\n",
       "| 3      |\n",
       "+--------+\n",
       "7 rows in set (0,00 sec)"
      ]
     },
     "execution_count": 43,
     "metadata": {},
     "output_type": "execute_result"
    }
   ],
   "source": [
    "SELECT a.codart\n",
    "FROM artista a JOIN personagem p ON a.codart = p.codart\n",
    "WHERE a.pais = 'USA';"
   ]
  },
  {
   "cell_type": "markdown",
   "id": "parallel-justice",
   "metadata": {},
   "source": [
    "## 4.4 Compare os resultados e explique-os.\n",
    "\n",
    "R.: O operador IN impede que valores repetidos sejam mostrados no resultado da consulta."
   ]
  },
  {
   "cell_type": "markdown",
   "id": "clean-platinum",
   "metadata": {},
   "source": [
    "## 5. Verifique agora o seguinte comando (1,5):\n",
    "```SQL\n",
    "select a.codart\n",
    "from artista a\n",
    "  EXCEPT\n",
    "select p.codart\n",
    "from personagem p;\n",
    "```"
   ]
  },
  {
   "cell_type": "code",
   "execution_count": 44,
   "id": "completed-label",
   "metadata": {},
   "outputs": [
    {
     "data": {
      "text/html": [
       "<table>\n",
       "<tr>\n",
       "<th>codart</th>\n",
       "</tr>\n",
       "<tr>\n",
       "<td>6</td>\n",
       "</tr>\n",
       "<tr>\n",
       "<td>7</td>\n",
       "</tr>\n",
       "<tr>\n",
       "<td>11</td>\n",
       "</tr>\n",
       "<tr>\n",
       "<td>12</td>\n",
       "</tr>\n",
       "</table>\n",
       "4 rows in set (0,00 sec)"
      ],
      "text/plain": [
       "+--------+\n",
       "| codart |\n",
       "+--------+\n",
       "| 6      |\n",
       "+--------+\n",
       "| 7      |\n",
       "+--------+\n",
       "| 11     |\n",
       "+--------+\n",
       "| 12     |\n",
       "+--------+\n",
       "4 rows in set (0,00 sec)"
      ]
     },
     "execution_count": 44,
     "metadata": {},
     "output_type": "execute_result"
    }
   ],
   "source": [
    "select a.codart\n",
    "from artista a\n",
    "  EXCEPT\n",
    "select p.codart\n",
    "from personagem p;"
   ]
  },
  {
   "cell_type": "markdown",
   "id": "impressive-gregory",
   "metadata": {},
   "source": [
    "## 5.1 O que o comando retorna?\n",
    "\n",
    "R.: O comando retorna os artistas que não possuem nenhum personagem associados na tabela de personagens."
   ]
  },
  {
   "cell_type": "markdown",
   "id": "comparative-platinum",
   "metadata": {},
   "source": [
    "## 5.2 Refaça-o usando uma subquery."
   ]
  },
  {
   "cell_type": "code",
   "execution_count": 45,
   "id": "cubic-finding",
   "metadata": {},
   "outputs": [
    {
     "data": {
      "text/html": [
       "<table>\n",
       "<tr>\n",
       "<th>codart</th>\n",
       "</tr>\n",
       "<tr>\n",
       "<td>6</td>\n",
       "</tr>\n",
       "<tr>\n",
       "<td>7</td>\n",
       "</tr>\n",
       "<tr>\n",
       "<td>11</td>\n",
       "</tr>\n",
       "<tr>\n",
       "<td>12</td>\n",
       "</tr>\n",
       "</table>\n",
       "4 rows in set (0,00 sec)"
      ],
      "text/plain": [
       "+--------+\n",
       "| codart |\n",
       "+--------+\n",
       "| 6      |\n",
       "+--------+\n",
       "| 7      |\n",
       "+--------+\n",
       "| 11     |\n",
       "+--------+\n",
       "| 12     |\n",
       "+--------+\n",
       "4 rows in set (0,00 sec)"
      ]
     },
     "execution_count": 45,
     "metadata": {},
     "output_type": "execute_result"
    }
   ],
   "source": [
    "SELECT a.codart FROM artista a\n",
    "WHERE a.codart NOT IN (SELECT p.codart FROM personagem p);"
   ]
  },
  {
   "cell_type": "markdown",
   "id": "tender-hospital",
   "metadata": {},
   "source": [
    "## 5.3 Depois, refaça-o usando JOIN (Utilize o left ou right join). "
   ]
  },
  {
   "cell_type": "code",
   "execution_count": 49,
   "id": "experienced-infrastructure",
   "metadata": {},
   "outputs": [
    {
     "data": {
      "text/html": [
       "<table>\n",
       "<tr>\n",
       "<th>codart</th>\n",
       "</tr>\n",
       "<tr>\n",
       "<td>6</td>\n",
       "</tr>\n",
       "<tr>\n",
       "<td>7</td>\n",
       "</tr>\n",
       "<tr>\n",
       "<td>11</td>\n",
       "</tr>\n",
       "<tr>\n",
       "<td>12</td>\n",
       "</tr>\n",
       "</table>\n",
       "4 rows in set (0,00 sec)"
      ],
      "text/plain": [
       "+--------+\n",
       "| codart |\n",
       "+--------+\n",
       "| 6      |\n",
       "+--------+\n",
       "| 7      |\n",
       "+--------+\n",
       "| 11     |\n",
       "+--------+\n",
       "| 12     |\n",
       "+--------+\n",
       "4 rows in set (0,00 sec)"
      ]
     },
     "execution_count": 49,
     "metadata": {},
     "output_type": "execute_result"
    }
   ],
   "source": [
    "SELECT a.codart\n",
    "FROM artista a LEFT JOIN personagem p ON a.codart = p.codart\n",
    "WHERE p.codart IS NULL;"
   ]
  },
  {
   "cell_type": "markdown",
   "id": "vertical-shaft",
   "metadata": {},
   "source": [
    "## 6. Verifique agora o seguinte comando (1,0):\n",
    "\n",
    "```SQL\n",
    "select a.nomeart\n",
    "from artista a join personagem p on a.codart = p.codart\n",
    "where p.cache = (select max(p.cache) from personagem p);\n",
    "```"
   ]
  },
  {
   "cell_type": "code",
   "execution_count": 50,
   "id": "continued-knock",
   "metadata": {},
   "outputs": [
    {
     "data": {
      "text/html": [
       "<table>\n",
       "<tr>\n",
       "<th>nomeart</th>\n",
       "</tr>\n",
       "<tr>\n",
       "<td>Brad Pitt</td>\n",
       "</tr>\n",
       "</table>\n",
       "1 row in set (0,01 sec)"
      ],
      "text/plain": [
       "+-----------+\n",
       "| nomeart   |\n",
       "+-----------+\n",
       "| Brad Pitt |\n",
       "+-----------+\n",
       "1 row in set (0,01 sec)"
      ]
     },
     "execution_count": 50,
     "metadata": {},
     "output_type": "execute_result"
    }
   ],
   "source": [
    "select a.nomeart\n",
    "from artista a join personagem p on a.codart = p.codart\n",
    "where p.cache = (select max(p.cache) from personagem p);"
   ]
  },
  {
   "cell_type": "markdown",
   "id": "graduate-gates",
   "metadata": {},
   "source": [
    "## 6.1 O que o comando retorna?\n",
    "\n",
    "R.: Retorna o artista com a maior cache."
   ]
  },
  {
   "cell_type": "markdown",
   "id": "alpha-insider",
   "metadata": {},
   "source": [
    "## 6.2 É possível executá-lo sem a subconsulta? Por quê?"
   ]
  },
  {
   "cell_type": "markdown",
   "id": "selective-patrol",
   "metadata": {},
   "source": [
    "R.: Sim, utilizando JOIN, ORDER BY e LIMIT."
   ]
  },
  {
   "cell_type": "code",
   "execution_count": 51,
   "id": "furnished-conditioning",
   "metadata": {},
   "outputs": [
    {
     "data": {
      "text/html": [
       "<table>\n",
       "<tr>\n",
       "<th>nomeart</th>\n",
       "</tr>\n",
       "<tr>\n",
       "<td>Brad Pitt</td>\n",
       "</tr>\n",
       "</table>\n",
       "1 row in set (0,00 sec)"
      ],
      "text/plain": [
       "+-----------+\n",
       "| nomeart   |\n",
       "+-----------+\n",
       "| Brad Pitt |\n",
       "+-----------+\n",
       "1 row in set (0,00 sec)"
      ]
     },
     "execution_count": 51,
     "metadata": {},
     "output_type": "execute_result"
    }
   ],
   "source": [
    "SELECT a.nomeart\n",
    "FROM artista a JOIN personagem p ON a.codart = p.codart\n",
    "ORDER BY p.cache DESC\n",
    "LIMIT 1;"
   ]
  }
 ],
 "metadata": {
  "kernelspec": {
   "display_name": "xsql",
   "language": "sqlite",
   "name": "xsql"
  },
  "language_info": {
   "codemirror_mode": "sql",
   "file_extension": "",
   "mimetype": "",
   "name": "mysql",
   "version": "0.0.8"
  }
 },
 "nbformat": 4,
 "nbformat_minor": 5
}
