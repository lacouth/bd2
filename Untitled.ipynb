{
 "cells": [
  {
   "cell_type": "code",
   "execution_count": 2,
   "id": "about-mechanics",
   "metadata": {},
   "outputs": [],
   "source": [
    "%LOAD postgresql dbname=Filmes"
   ]
  },
  {
   "cell_type": "markdown",
   "id": "instructional-invalid",
   "metadata": {},
   "source": [
    "# Link para as configurações iniciais do postgres\n",
    "https://xeus-sql.readthedocs.io/en/latest/PostgreSQL.html "
   ]
  },
  {
   "cell_type": "code",
   "execution_count": null,
   "id": "matched-honolulu",
   "metadata": {},
   "outputs": [],
   "source": []
  },
  {
   "cell_type": "markdown",
   "id": "imported-result",
   "metadata": {},
   "source": [
    "## Script para a Tarefa 01 - Banco de Dados II 2020.2\n",
    "### 12/02/2021\n",
    "### Patric Lacouth"
   ]
  },
  {
   "cell_type": "markdown",
   "id": "social-timeline",
   "metadata": {},
   "source": [
    "1. Crie o BD chamado “Filmes” no Postgres."
   ]
  },
  {
   "cell_type": "code",
   "execution_count": 5,
   "id": "internal-abortion",
   "metadata": {},
   "outputs": [],
   "source": [
    "-- CREATE DATABASE Filmes"
   ]
  },
  {
   "cell_type": "markdown",
   "id": "resistant-tackle",
   "metadata": {},
   "source": [
    "2.  Crie as tabelas referentes ao modelo lógico (Figura 2) com suas\n",
    "    estruturas compostas dos atributos e constraints indicados. \n",
    "    Use o tipo serial quando o atributo chave primária for \n",
    "    único e inteiro (codArt, codFilme, codEst,CodCATEG). \n",
    "    Salve seu script de criação de tabelas e constraints."
   ]
  },
  {
   "cell_type": "code",
   "execution_count": 6,
   "id": "casual-auction",
   "metadata": {},
   "outputs": [],
   "source": [
    "CREATE TABLE IF NOT EXISTS Artista (\n",
    "\tcodArt SERIAL NOT NULL,\n",
    "\tnomeArt VARCHAR(25),\n",
    "\tcidade VARCHAR(20),\n",
    "\tpais VARCHAR(20),\n",
    "\tdataNasc DATE,\n",
    "\tCONSTRAINT pk_artista PRIMARY KEY(codArt)\n",
    ");"
   ]
  },
  {
   "cell_type": "code",
   "execution_count": 7,
   "id": "adjustable-enemy",
   "metadata": {},
   "outputs": [],
   "source": [
    "CREATE TABLE IF NOT EXISTS Estudio (\n",
    "\tcodEst SERIAL NOT NULL,\n",
    "\tnomeEst VARCHAR(25),\n",
    "\tCONSTRAINT pk_estudio PRIMARY KEY(codEst)\n",
    ");"
   ]
  },
  {
   "cell_type": "code",
   "execution_count": 8,
   "id": "thermal-mention",
   "metadata": {},
   "outputs": [],
   "source": [
    "CREATE TABLE IF NOT EXISTS Categoria (\n",
    "\tcodCateg SERIAL NOT NULL,\n",
    "\tdescCateg VARCHAR(25),\n",
    "\tCONSTRAINT pk_categoria PRIMARY KEY(codCateg)\n",
    ");"
   ]
  },
  {
   "cell_type": "code",
   "execution_count": 9,
   "id": "purple-marks",
   "metadata": {},
   "outputs": [],
   "source": [
    "CREATE TABLE IF NOT EXISTS Filme(\n",
    "\tcodFilme SERIAL NOT NULL,\n",
    "\ttitulo VARCHAR(25),\n",
    "\tano INTEGER,\n",
    "\tduracao INTEGER,\n",
    "\tcodCateg INTEGER,\n",
    "\tcodEst INTEGER,\n",
    "\tCONSTRAINT pk_codFilme PRIMARY KEY(codFilme),\n",
    "\tCONSTRAINT fk_codEst FOREIGN KEY(codEst) REFERENCES Estudio,\n",
    "\tCONSTRAINT fk_codCateg FOREIGN KEY(codCateg) REFERENCES Categoria\n",
    ");"
   ]
  },
  {
   "cell_type": "code",
   "execution_count": 10,
   "id": "upset-banana",
   "metadata": {},
   "outputs": [],
   "source": [
    "CREATE TABLE IF NOT EXISTS Personagem(\n",
    "\tcodFilme INTEGER,\n",
    "\tcodArt INTEGER,\n",
    "\tnomePers VARCHAR(25),\n",
    "\tcache NUMERIC(15,2),\n",
    "\tCONSTRAINT fk_codFilme FOREIGN KEY(codFilme) REFERENCES Filme,\n",
    "\tCONSTRAINT fk_codArt FOREIGN KEY(codArt) REFERENCES Artista,\n",
    "\tCONSTRAINT pk_personagem PRIMARY KEY (codFilme,codArt)\n",
    ");"
   ]
  },
  {
   "cell_type": "markdown",
   "id": "opened-spanking",
   "metadata": {},
   "source": [
    "3.    Verifique a estrutura das tabelas após sua criação: ARTISTA, FILME, CATEGORIA, ESTUDIO e PERSONAGEM. Estão compatíveis com os modelos?"
   ]
  },
  {
   "cell_type": "code",
   "execution_count": 25,
   "id": "affiliated-bulgaria",
   "metadata": {},
   "outputs": [
    {
     "ename": "Error",
     "evalue": "unknown data type with typelem: 19 for colNum: 1 with name: table_name while executing \"SELECT \n   table_name, \n   column_name, \n   data_type \nFROM \n   information_schema.columns\nWHERE \n   table_name = 'artista';\".",
     "output_type": "error",
     "traceback": [
      "Error: unknown data type with typelem: 19 for colNum: 1 with name: table_name while executing \"SELECT \n   table_name, \n   column_name, \n   data_type \nFROM \n   information_schema.columns\nWHERE \n   table_name = 'artista';\"."
     ]
    }
   ],
   "source": [
    "SELECT \n",
    "   table_name, \n",
    "   column_name, \n",
    "   data_type \n",
    "FROM \n",
    "   information_schema.columns\n",
    "WHERE \n",
    "   table_name = 'artista';"
   ]
  },
  {
   "cell_type": "code",
   "execution_count": 23,
   "id": "greenhouse-liberal",
   "metadata": {},
   "outputs": [
    {
     "data": {
      "text/html": [
       "</table>\n",
       "Empty set (0,00 sec)"
      ],
      "text/plain": [
       "\n",
       "Empty set (0,00 sec)"
      ]
     },
     "execution_count": 23,
     "metadata": {},
     "output_type": "execute_result"
    }
   ],
   "source": [
    "select * from artista;"
   ]
  }
 ],
 "metadata": {
  "kernelspec": {
   "display_name": "xsql",
   "language": "sqlite",
   "name": "xsql"
  },
  "language_info": {
   "codemirror_mode": "sql",
   "file_extension": "",
   "mimetype": "",
   "name": "mysql",
   "version": "0.0.8"
  }
 },
 "nbformat": 4,
 "nbformat_minor": 5
}
