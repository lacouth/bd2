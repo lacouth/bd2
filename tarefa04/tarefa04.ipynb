{
 "cells": [
  {
   "cell_type": "code",
   "execution_count": 4,
   "id": "bottom-people",
   "metadata": {},
   "outputs": [],
   "source": [
    "%LOAD postgresql dbname=Filmes"
   ]
  },
  {
   "cell_type": "markdown",
   "id": "distinguished-climb",
   "metadata": {},
   "source": [
    "## Script SQL para a Tarefa 04 - Banco de Dados II 2020.2\n",
    "## Visões e Índices\n",
    "### 15/03/2021\n",
    "### Patric Lacouth - 20191370047\n",
    "\n",
    "***\n"
   ]
  },
  {
   "cell_type": "markdown",
   "id": "duplicate-fisher",
   "metadata": {},
   "source": [
    "### 1. Para a tabela artista, crie uma view artistaV com os seguintes campos: codart, nomeart, datanasc. Renomeie “codart” para “código do artista” e “nomeart” para “nome” na view. Liste o conteúdo da view criada (0,5).\n"
   ]
  },
  {
   "cell_type": "code",
   "execution_count": 7,
   "id": "expressed-clearance",
   "metadata": {},
   "outputs": [],
   "source": [
    "CREATE VIEW artistaV AS\n",
    "    SELECT codart AS \"código do artista\",\n",
    "           nomeart AS \"nome\",\n",
    "           datanasc \n",
    "           FROM artista;"
   ]
  },
  {
   "cell_type": "code",
   "execution_count": 8,
   "id": "eligible-support",
   "metadata": {},
   "outputs": [
    {
     "data": {
      "text/html": [
       "<table>\n",
       "<tr>\n",
       "<th>código do artista</th>\n",
       "<th>nome</th>\n",
       "<th>datanasc</th>\n",
       "</tr>\n",
       "<tr>\n",
       "<td>1</td>\n",
       "<td>Cameron Diaz</td>\n",
       "<td>Tue Jul 15 00:00:00 1975\n",
       "</td>\n",
       "</tr>\n",
       "<tr>\n",
       "<td>2</td>\n",
       "<td>Julia Roberts</td>\n",
       "<td>Sat Aug 20 00:00:00 2067\n",
       "</td>\n",
       "</tr>\n",
       "<tr>\n",
       "<td>5</td>\n",
       "<td>Bradley Cooper</td>\n",
       "<td>Mon Jun  6 00:00:00 1977\n",
       "</td>\n",
       "</tr>\n",
       "<tr>\n",
       "<td>6</td>\n",
       "<td>Tom Cruise</td>\n",
       "<td>Wed Sep 10 00:00:00 2064\n",
       "</td>\n",
       "</tr>\n",
       "<tr>\n",
       "<td>7</td>\n",
       "<td>Rodrigo Santoro</td>\n",
       "<td>Thu Oct 12 00:00:00 1978\n",
       "</td>\n",
       "</tr>\n",
       "<tr>\n",
       "<td>8</td>\n",
       "<td>Fulano de Tal</td>\n",
       "<td>Thu Jan  1 00:00:00 1970\n",
       "</td>\n",
       "</tr>\n",
       "<tr>\n",
       "<td>3</td>\n",
       "<td>Brad Pitt</td>\n",
       "<td>Thu Mar  5 00:00:00 1970\n",
       "</td>\n",
       "</tr>\n",
       "<tr>\n",
       "<td>4</td>\n",
       "<td>Joaquin Phoenix</td>\n",
       "<td>Thu Apr  6 00:00:00 1972\n",
       "</td>\n",
       "</tr>\n",
       "<tr>\n",
       "<td>9</td>\n",
       "<td>Rick Martinez</td>\n",
       "<td>Wed Aug  8 00:00:00 1888\n",
       "</td>\n",
       "</tr>\n",
       "<tr>\n",
       "<td>11</td>\n",
       "<td>Alessandra Negrini</td>\n",
       "<td>Thu Jan  1 00:00:00 1970\n",
       "</td>\n",
       "</tr>\n",
       "<tr>\n",
       "<td>12</td>\n",
       "<td>Fernanda Montenegro</td>\n",
       "<td>Thu Jan  1 00:00:00 1925\n",
       "</td>\n",
       "</tr>\n",
       "</table>\n",
       "11 rows in set (0.01 sec)"
      ],
      "text/plain": [
       "+--------------------+---------------------+---------------------------+\n",
       "| código do artista | nome                | datanasc                  |\n",
       "+--------------------+---------------------+---------------------------+\n",
       "| 1                  | Cameron Diaz        | Tue Jul 15 00:00:00 1975  |\n",
       "+--------------------+---------------------+---------------------------+\n",
       "| 2                  | Julia Roberts       | Sat Aug 20 00:00:00 2067  |\n",
       "+--------------------+---------------------+---------------------------+\n",
       "| 5                  | Bradley Cooper      | Mon Jun  6 00:00:00 1977  |\n",
       "+--------------------+---------------------+---------------------------+\n",
       "| 6                  | Tom Cruise          | Wed Sep 10 00:00:00 2064  |\n",
       "+--------------------+---------------------+---------------------------+\n",
       "| 7                  | Rodrigo Santoro     | Thu Oct 12 00:00:00 1978  |\n",
       "+--------------------+---------------------+---------------------------+\n",
       "| 8                  | Fulano de Tal       | Thu Jan  1 00:00:00 1970  |\n",
       "+--------------------+---------------------+---------------------------+\n",
       "| 3                  | Brad Pitt           | Thu Mar  5 00:00:00 1970  |\n",
       "+--------------------+---------------------+---------------------------+\n",
       "| 4                  | Joaquin Phoenix     | Thu Apr  6 00:00:00 1972  |\n",
       "+--------------------+---------------------+---------------------------+\n",
       "| 9                  | Rick Martinez       | Wed Aug  8 00:00:00 1888  |\n",
       "+--------------------+---------------------+---------------------------+\n",
       "| 11                 | Alessandra Negrini  | Thu Jan  1 00:00:00 1970  |\n",
       "+--------------------+---------------------+---------------------------+\n",
       "| 12                 | Fernanda Montenegro | Thu Jan  1 00:00:00 1925  |\n",
       "+--------------------+---------------------+---------------------------+\n",
       "11 rows in set (0.01 sec)"
      ]
     },
     "execution_count": 8,
     "metadata": {},
     "output_type": "execute_result"
    }
   ],
   "source": [
    "SELECT * FROM artistaV;"
   ]
  },
  {
   "cell_type": "markdown",
   "id": "devoted-entrance",
   "metadata": {},
   "source": [
    "***\n",
    "### 2.Crie uma view filmeV com os seguintes campos: titulo,duração, ano, estúdio (nome do estúdio). Liste, em seguida, seu conteúdo (0,5).\n"
   ]
  },
  {
   "cell_type": "code",
   "execution_count": 14,
   "id": "understanding-assumption",
   "metadata": {},
   "outputs": [],
   "source": [
    "CREATE VIEW filmeV AS\n",
    "    SELECT f.titulo,f.ano,f.duracao,e.nomeest\n",
    "        FROM filme f JOIN estudio e ON f.codest = e.codest;"
   ]
  },
  {
   "cell_type": "code",
   "execution_count": 16,
   "id": "behavioral-southeast",
   "metadata": {},
   "outputs": [
    {
     "data": {
      "text/html": [
       "<table>\n",
       "<tr>\n",
       "<th>titulo</th>\n",
       "<th>ano</th>\n",
       "<th>duracao</th>\n",
       "<th>nomeest</th>\n",
       "</tr>\n",
       "<tr>\n",
       "<td>Encontro Explosivo</td>\n",
       "<td>2010</td>\n",
       "<td>134</td>\n",
       "<td>Paramount</td>\n",
       "</tr>\n",
       "<tr>\n",
       "<td>O Besouro Verde</td>\n",
       "<td>2010</td>\n",
       "<td>155</td>\n",
       "<td>Paramount</td>\n",
       "</tr>\n",
       "<tr>\n",
       "<td>Comer, Rezar, Amar</td>\n",
       "<td>2010</td>\n",
       "<td>177</td>\n",
       "<td>Paramount</td>\n",
       "</tr>\n",
       "<tr>\n",
       "<td>Coringa</td>\n",
       "<td>2019</td>\n",
       "<td>122</td>\n",
       "<td>Paramount</td>\n",
       "</tr>\n",
       "<tr>\n",
       "<td>Era uma vez em Hollywood</td>\n",
       "<td>2020</td>\n",
       "<td>119</td>\n",
       "<td>Disney</td>\n",
       "</tr>\n",
       "<tr>\n",
       "<td>Nasce uma estrela</td>\n",
       "<td>2018</td>\n",
       "<td>100</td>\n",
       "<td>Paramount</td>\n",
       "</tr>\n",
       "<tr>\n",
       "<td>PI</td>\n",
       "<td>1998</td>\n",
       "<td>120</td>\n",
       "<td>Paramount</td>\n",
       "</tr>\n",
       "<tr>\n",
       "<td>The Matrix</td>\n",
       "<td>1999</td>\n",
       "<td>130</td>\n",
       "<td>Warner</td>\n",
       "</tr>\n",
       "<tr>\n",
       "<td>Clube da Luta</td>\n",
       "<td>1999</td>\n",
       "<td>140</td>\n",
       "<td>Paramount</td>\n",
       "</tr>\n",
       "<tr>\n",
       "<td>Superman</td>\n",
       "<td>2018</td>\n",
       "<td>120</td>\n",
       "<td>Universal</td>\n",
       "</tr>\n",
       "</table>\n",
       "10 rows in set (0,00 sec)"
      ],
      "text/plain": [
       "+--------------------------+------+---------+-----------+\n",
       "| titulo                   | ano  | duracao | nomeest   |\n",
       "+--------------------------+------+---------+-----------+\n",
       "| Encontro Explosivo       | 2010 | 134     | Paramount |\n",
       "+--------------------------+------+---------+-----------+\n",
       "| O Besouro Verde          | 2010 | 155     | Paramount |\n",
       "+--------------------------+------+---------+-----------+\n",
       "| Comer, Rezar, Amar       | 2010 | 177     | Paramount |\n",
       "+--------------------------+------+---------+-----------+\n",
       "| Coringa                  | 2019 | 122     | Paramount |\n",
       "+--------------------------+------+---------+-----------+\n",
       "| Era uma vez em Hollywood | 2020 | 119     | Disney    |\n",
       "+--------------------------+------+---------+-----------+\n",
       "| Nasce uma estrela        | 2018 | 100     | Paramount |\n",
       "+--------------------------+------+---------+-----------+\n",
       "| PI                       | 1998 | 120     | Paramount |\n",
       "+--------------------------+------+---------+-----------+\n",
       "| The Matrix               | 1999 | 130     | Warner    |\n",
       "+--------------------------+------+---------+-----------+\n",
       "| Clube da Luta            | 1999 | 140     | Paramount |\n",
       "+--------------------------+------+---------+-----------+\n",
       "| Superman                 | 2018 | 120     | Universal |\n",
       "+--------------------------+------+---------+-----------+\n",
       "10 rows in set (0,00 sec)"
      ]
     },
     "execution_count": 16,
     "metadata": {},
     "output_type": "execute_result"
    }
   ],
   "source": [
    "SELECT * FROM filmeV;"
   ]
  },
  {
   "cell_type": "markdown",
   "id": "brilliant-facing",
   "metadata": {},
   "source": [
    "***\n",
    "## 3.Faça a inserção da artista “Mariana Ximenes” com a data de nascimento ‘27/11/78’ através da view artistaV. Como foi possível inserir por meio da view? Explique (1,0)."
   ]
  },
  {
   "cell_type": "code",
   "execution_count": 21,
   "id": "federal-broadway",
   "metadata": {},
   "outputs": [],
   "source": [
    "INSERT INTO artistaV(nome,datanasc) VALUES('Mariana Ximenes','27/11/78');"
   ]
  },
  {
   "cell_type": "code",
   "execution_count": 22,
   "id": "earned-possible",
   "metadata": {},
   "outputs": [
    {
     "data": {
      "text/html": [
       "<table>\n",
       "<tr>\n",
       "<th>código do artista</th>\n",
       "<th>nome</th>\n",
       "<th>datanasc</th>\n",
       "</tr>\n",
       "<tr>\n",
       "<td>1</td>\n",
       "<td>Cameron Diaz</td>\n",
       "<td>Tue Jul 15 00:00:00 1975\n",
       "</td>\n",
       "</tr>\n",
       "<tr>\n",
       "<td>2</td>\n",
       "<td>Julia Roberts</td>\n",
       "<td>Sat Aug 20 00:00:00 2067\n",
       "</td>\n",
       "</tr>\n",
       "<tr>\n",
       "<td>5</td>\n",
       "<td>Bradley Cooper</td>\n",
       "<td>Mon Jun  6 00:00:00 1977\n",
       "</td>\n",
       "</tr>\n",
       "<tr>\n",
       "<td>6</td>\n",
       "<td>Tom Cruise</td>\n",
       "<td>Wed Sep 10 00:00:00 2064\n",
       "</td>\n",
       "</tr>\n",
       "<tr>\n",
       "<td>7</td>\n",
       "<td>Rodrigo Santoro</td>\n",
       "<td>Thu Oct 12 00:00:00 1978\n",
       "</td>\n",
       "</tr>\n",
       "<tr>\n",
       "<td>8</td>\n",
       "<td>Fulano de Tal</td>\n",
       "<td>Thu Jan  1 00:00:00 1970\n",
       "</td>\n",
       "</tr>\n",
       "<tr>\n",
       "<td>3</td>\n",
       "<td>Brad Pitt</td>\n",
       "<td>Thu Mar  5 00:00:00 1970\n",
       "</td>\n",
       "</tr>\n",
       "<tr>\n",
       "<td>4</td>\n",
       "<td>Joaquin Phoenix</td>\n",
       "<td>Thu Apr  6 00:00:00 1972\n",
       "</td>\n",
       "</tr>\n",
       "<tr>\n",
       "<td>9</td>\n",
       "<td>Rick Martinez</td>\n",
       "<td>Wed Aug  8 00:00:00 1888\n",
       "</td>\n",
       "</tr>\n",
       "<tr>\n",
       "<td>11</td>\n",
       "<td>Alessandra Negrini</td>\n",
       "<td>Thu Jan  1 00:00:00 1970\n",
       "</td>\n",
       "</tr>\n",
       "<tr>\n",
       "<td>12</td>\n",
       "<td>Fernanda Montenegro</td>\n",
       "<td>Thu Jan  1 00:00:00 1925\n",
       "</td>\n",
       "</tr>\n",
       "<tr>\n",
       "<td>13</td>\n",
       "<td>Mariana Ximenes</td>\n",
       "<td>Mon Nov 27 00:00:00 1978\n",
       "</td>\n",
       "</tr>\n",
       "</table>\n",
       "12 rows in set (0,00 sec)"
      ],
      "text/plain": [
       "+--------------------+---------------------+---------------------------+\n",
       "| código do artista | nome                | datanasc                  |\n",
       "+--------------------+---------------------+---------------------------+\n",
       "| 1                  | Cameron Diaz        | Tue Jul 15 00:00:00 1975  |\n",
       "+--------------------+---------------------+---------------------------+\n",
       "| 2                  | Julia Roberts       | Sat Aug 20 00:00:00 2067  |\n",
       "+--------------------+---------------------+---------------------------+\n",
       "| 5                  | Bradley Cooper      | Mon Jun  6 00:00:00 1977  |\n",
       "+--------------------+---------------------+---------------------------+\n",
       "| 6                  | Tom Cruise          | Wed Sep 10 00:00:00 2064  |\n",
       "+--------------------+---------------------+---------------------------+\n",
       "| 7                  | Rodrigo Santoro     | Thu Oct 12 00:00:00 1978  |\n",
       "+--------------------+---------------------+---------------------------+\n",
       "| 8                  | Fulano de Tal       | Thu Jan  1 00:00:00 1970  |\n",
       "+--------------------+---------------------+---------------------------+\n",
       "| 3                  | Brad Pitt           | Thu Mar  5 00:00:00 1970  |\n",
       "+--------------------+---------------------+---------------------------+\n",
       "| 4                  | Joaquin Phoenix     | Thu Apr  6 00:00:00 1972  |\n",
       "+--------------------+---------------------+---------------------------+\n",
       "| 9                  | Rick Martinez       | Wed Aug  8 00:00:00 1888  |\n",
       "+--------------------+---------------------+---------------------------+\n",
       "| 11                 | Alessandra Negrini  | Thu Jan  1 00:00:00 1970  |\n",
       "+--------------------+---------------------+---------------------------+\n",
       "| 12                 | Fernanda Montenegro | Thu Jan  1 00:00:00 1925  |\n",
       "+--------------------+---------------------+---------------------------+\n",
       "| 13                 | Mariana Ximenes     | Mon Nov 27 00:00:00 1978  |\n",
       "+--------------------+---------------------+---------------------------+\n",
       "12 rows in set (0,00 sec)"
      ]
     },
     "execution_count": 22,
     "metadata": {},
     "output_type": "execute_result"
    }
   ],
   "source": [
    "select * from artistaV;"
   ]
  },
  {
   "cell_type": "markdown",
   "id": "artificial-haiti",
   "metadata": {},
   "source": [
    "***\n",
    "## 4. Tente inserir um filme através da view filmeV. O que aconteceu? Explique (1,0)."
   ]
  },
  {
   "cell_type": "code",
   "execution_count": 24,
   "id": "mental-cinema",
   "metadata": {},
   "outputs": [
    {
     "ename": "Error",
     "evalue": "Cannot execute query. Fatal error. ERROR:  column \"nomest\" of relation \"filmev\" does not exist\nLINE 1: INSERT INTO filmeV(titulo,ano,duracao,nomest) VALUES ('Eu me...\n                                              ^\n while executing \"INSERT INTO filmeV(titulo,ano,duracao,nomest) VALUES ('Eu me Importo',2021,150,'Universal');\".",
     "output_type": "error",
     "traceback": [
      "Error: Cannot execute query. Fatal error. ERROR:  column \"nomest\" of relation \"filmev\" does not exist\nLINE 1: INSERT INTO filmeV(titulo,ano,duracao,nomest) VALUES ('Eu me...\n                                              ^\n while executing \"INSERT INTO filmeV(titulo,ano,duracao,nomest) VALUES ('Eu me Importo',2021,150,'Universal');\"."
     ]
    }
   ],
   "source": [
    "INSERT INTO filmeV(titulo,ano,duracao,nomest) VALUES ('Eu me Importo',2021,150,'Universal');"
   ]
  },
  {
   "cell_type": "code",
   "execution_count": 26,
   "id": "utility-friendly",
   "metadata": {},
   "outputs": [],
   "source": [
    "INSERT INTO filme(titulo,ano,duracao,codcateg,codest)\n",
    "       VALUES('Eu me Importo',2021,150,2,3);"
   ]
  },
  {
   "cell_type": "code",
   "execution_count": 27,
   "id": "extended-living",
   "metadata": {},
   "outputs": [
    {
     "data": {
      "text/html": [
       "<table>\n",
       "<tr>\n",
       "<th>titulo</th>\n",
       "<th>ano</th>\n",
       "<th>duracao</th>\n",
       "<th>nomeest</th>\n",
       "</tr>\n",
       "<tr>\n",
       "<td>Encontro Explosivo</td>\n",
       "<td>2010</td>\n",
       "<td>134</td>\n",
       "<td>Paramount</td>\n",
       "</tr>\n",
       "<tr>\n",
       "<td>O Besouro Verde</td>\n",
       "<td>2010</td>\n",
       "<td>155</td>\n",
       "<td>Paramount</td>\n",
       "</tr>\n",
       "<tr>\n",
       "<td>Comer, Rezar, Amar</td>\n",
       "<td>2010</td>\n",
       "<td>177</td>\n",
       "<td>Paramount</td>\n",
       "</tr>\n",
       "<tr>\n",
       "<td>Coringa</td>\n",
       "<td>2019</td>\n",
       "<td>122</td>\n",
       "<td>Paramount</td>\n",
       "</tr>\n",
       "<tr>\n",
       "<td>Era uma vez em Hollywood</td>\n",
       "<td>2020</td>\n",
       "<td>119</td>\n",
       "<td>Disney</td>\n",
       "</tr>\n",
       "<tr>\n",
       "<td>Nasce uma estrela</td>\n",
       "<td>2018</td>\n",
       "<td>100</td>\n",
       "<td>Paramount</td>\n",
       "</tr>\n",
       "<tr>\n",
       "<td>PI</td>\n",
       "<td>1998</td>\n",
       "<td>120</td>\n",
       "<td>Paramount</td>\n",
       "</tr>\n",
       "<tr>\n",
       "<td>The Matrix</td>\n",
       "<td>1999</td>\n",
       "<td>130</td>\n",
       "<td>Warner</td>\n",
       "</tr>\n",
       "<tr>\n",
       "<td>Clube da Luta</td>\n",
       "<td>1999</td>\n",
       "<td>140</td>\n",
       "<td>Paramount</td>\n",
       "</tr>\n",
       "<tr>\n",
       "<td>Superman</td>\n",
       "<td>2018</td>\n",
       "<td>120</td>\n",
       "<td>Universal</td>\n",
       "</tr>\n",
       "<tr>\n",
       "<td>Eu me Importo</td>\n",
       "<td>2021</td>\n",
       "<td>150</td>\n",
       "<td>Universal</td>\n",
       "</tr>\n",
       "</table>\n",
       "11 rows in set (0,00 sec)"
      ],
      "text/plain": [
       "+--------------------------+------+---------+-----------+\n",
       "| titulo                   | ano  | duracao | nomeest   |\n",
       "+--------------------------+------+---------+-----------+\n",
       "| Encontro Explosivo       | 2010 | 134     | Paramount |\n",
       "+--------------------------+------+---------+-----------+\n",
       "| O Besouro Verde          | 2010 | 155     | Paramount |\n",
       "+--------------------------+------+---------+-----------+\n",
       "| Comer, Rezar, Amar       | 2010 | 177     | Paramount |\n",
       "+--------------------------+------+---------+-----------+\n",
       "| Coringa                  | 2019 | 122     | Paramount |\n",
       "+--------------------------+------+---------+-----------+\n",
       "| Era uma vez em Hollywood | 2020 | 119     | Disney    |\n",
       "+--------------------------+------+---------+-----------+\n",
       "| Nasce uma estrela        | 2018 | 100     | Paramount |\n",
       "+--------------------------+------+---------+-----------+\n",
       "| PI                       | 1998 | 120     | Paramount |\n",
       "+--------------------------+------+---------+-----------+\n",
       "| The Matrix               | 1999 | 130     | Warner    |\n",
       "+--------------------------+------+---------+-----------+\n",
       "| Clube da Luta            | 1999 | 140     | Paramount |\n",
       "+--------------------------+------+---------+-----------+\n",
       "| Superman                 | 2018 | 120     | Universal |\n",
       "+--------------------------+------+---------+-----------+\n",
       "| Eu me Importo            | 2021 | 150     | Universal |\n",
       "+--------------------------+------+---------+-----------+\n",
       "11 rows in set (0,00 sec)"
      ]
     },
     "execution_count": 27,
     "metadata": {},
     "output_type": "execute_result"
    }
   ],
   "source": [
    "SELECT * FROM filmeV;"
   ]
  },
  {
   "cell_type": "markdown",
   "id": "southern-sharp",
   "metadata": {},
   "source": [
    "***\n",
    "## 5.Crie uma view que apresente os nomes dos artistas dos filmes que são do ano de 2019. Consulte a view criada (1,0). "
   ]
  },
  {
   "cell_type": "code",
   "execution_count": 33,
   "id": "freelance-attention",
   "metadata": {},
   "outputs": [],
   "source": [
    "CREATE VIEW artista_2019 AS\n",
    "    SELECT a.nomeart \n",
    "        FROM artista a JOIN personagem p ON a.codart = p.codart\n",
    "        JOIN filme f ON p.codfilme = f.codfilme\n",
    "        WHERE f.ano = 2019;"
   ]
  },
  {
   "cell_type": "code",
   "execution_count": 34,
   "id": "advisory-soldier",
   "metadata": {},
   "outputs": [
    {
     "data": {
      "text/html": [
       "<table>\n",
       "<tr>\n",
       "<th>nomeart</th>\n",
       "</tr>\n",
       "<tr>\n",
       "<td>Joaquin Phoenix</td>\n",
       "</tr>\n",
       "</table>\n",
       "1 row in set (0,00 sec)"
      ],
      "text/plain": [
       "+-----------------+\n",
       "| nomeart         |\n",
       "+-----------------+\n",
       "| Joaquin Phoenix |\n",
       "+-----------------+\n",
       "1 row in set (0,00 sec)"
      ]
     },
     "execution_count": 34,
     "metadata": {},
     "output_type": "execute_result"
    }
   ],
   "source": [
    "SELECT * FROM artista_2019;"
   ]
  },
  {
   "cell_type": "markdown",
   "id": "prescription-conspiracy",
   "metadata": {},
   "source": [
    "***\n",
    "## 6.Crie uma view com check option que mostre os artistas cujo nome inicia com ‘B’. Mostre seu nome, código e país. Faça inserções com vários nomes por meio da view e verifique se elas ocorrem (1,0)."
   ]
  },
  {
   "cell_type": "code",
   "execution_count": 38,
   "id": "synthetic-connection",
   "metadata": {},
   "outputs": [],
   "source": [
    "CREATE VIEW artista_b AS\n",
    "    SELECT nomeart, codart, pais FROM artista\n",
    "        WHERE nomeart LIKE 'B%'\n",
    "        WITH CHECK OPTION;"
   ]
  },
  {
   "cell_type": "code",
   "execution_count": 40,
   "id": "acting-modern",
   "metadata": {},
   "outputs": [
    {
     "data": {
      "text/html": [
       "<table>\n",
       "<tr>\n",
       "<th>nomeart</th>\n",
       "<th>codart</th>\n",
       "<th>pais</th>\n",
       "</tr>\n",
       "<tr>\n",
       "<td>Bradley Cooper</td>\n",
       "<td>5</td>\n",
       "<td>USA</td>\n",
       "</tr>\n",
       "<tr>\n",
       "<td>Brad Pitt</td>\n",
       "<td>3</td>\n",
       "<td>USA</td>\n",
       "</tr>\n",
       "</table>\n",
       "2 rows in set (0,00 sec)"
      ],
      "text/plain": [
       "+----------------+--------+------+\n",
       "| nomeart        | codart | pais |\n",
       "+----------------+--------+------+\n",
       "| Bradley Cooper | 5      | USA  |\n",
       "+----------------+--------+------+\n",
       "| Brad Pitt      | 3      | USA  |\n",
       "+----------------+--------+------+\n",
       "2 rows in set (0,00 sec)"
      ]
     },
     "execution_count": 40,
     "metadata": {},
     "output_type": "execute_result"
    }
   ],
   "source": [
    "SELECT * FROM artista_b;"
   ]
  },
  {
   "cell_type": "code",
   "execution_count": 41,
   "id": "scenic-phenomenon",
   "metadata": {},
   "outputs": [],
   "source": [
    "INSERT INTO artista_b(nomeart,pais)\n",
    "       VALUES('Brian Cranston','USA');"
   ]
  },
  {
   "cell_type": "code",
   "execution_count": 42,
   "id": "tropical-import",
   "metadata": {},
   "outputs": [
    {
     "data": {
      "text/html": [
       "<table>\n",
       "<tr>\n",
       "<th>nomeart</th>\n",
       "<th>codart</th>\n",
       "<th>pais</th>\n",
       "</tr>\n",
       "<tr>\n",
       "<td>Bradley Cooper</td>\n",
       "<td>5</td>\n",
       "<td>USA</td>\n",
       "</tr>\n",
       "<tr>\n",
       "<td>Brad Pitt</td>\n",
       "<td>3</td>\n",
       "<td>USA</td>\n",
       "</tr>\n",
       "<tr>\n",
       "<td>Brian Cranston</td>\n",
       "<td>14</td>\n",
       "<td>USA</td>\n",
       "</tr>\n",
       "</table>\n",
       "3 rows in set (0,00 sec)"
      ],
      "text/plain": [
       "+----------------+--------+------+\n",
       "| nomeart        | codart | pais |\n",
       "+----------------+--------+------+\n",
       "| Bradley Cooper | 5      | USA  |\n",
       "+----------------+--------+------+\n",
       "| Brad Pitt      | 3      | USA  |\n",
       "+----------------+--------+------+\n",
       "| Brian Cranston | 14     | USA  |\n",
       "+----------------+--------+------+\n",
       "3 rows in set (0,00 sec)"
      ]
     },
     "execution_count": 42,
     "metadata": {},
     "output_type": "execute_result"
    }
   ],
   "source": [
    "SELECT * FROM artista_b;"
   ]
  },
  {
   "cell_type": "code",
   "execution_count": 44,
   "id": "revolutionary-domestic",
   "metadata": {},
   "outputs": [
    {
     "ename": "Error",
     "evalue": "Cannot execute query. Fatal error. ERROR:  new row violates check option for view \"artista_b\"\nDETAIL:  Failing row contains (15, Rosamund Pike, null, USA, null).\n while executing \"INSERT INTO artista_b(nomeart,pais)\n       VALUES('Rosamund Pike','USA');\".",
     "output_type": "error",
     "traceback": [
      "Error: Cannot execute query. Fatal error. ERROR:  new row violates check option for view \"artista_b\"\nDETAIL:  Failing row contains (15, Rosamund Pike, null, USA, null).\n while executing \"INSERT INTO artista_b(nomeart,pais)\n       VALUES('Rosamund Pike','USA');\"."
     ]
    }
   ],
   "source": [
    "INSERT INTO artista_b(nomeart,pais)\n",
    "       VALUES('Rosamund Pike','USA');"
   ]
  },
  {
   "cell_type": "markdown",
   "id": "central-trial",
   "metadata": {},
   "source": [
    "***\n",
    "# 2ª parte: Índices"
   ]
  },
  {
   "cell_type": "code",
   "execution_count": 45,
   "id": "minor-croatia",
   "metadata": {},
   "outputs": [],
   "source": [
    "%LOAD postgresql dbname=Empregados"
   ]
  },
  {
   "cell_type": "markdown",
   "id": "outer-brief",
   "metadata": {},
   "source": [
    "***\n",
    "## 7. Considerando isso, teste o seguinte comando (1,0):\n",
    "```sql\n",
    "Explain select * from empregado\n",
    "where salario > 4000;\n",
    "```\n"
   ]
  },
  {
   "cell_type": "code",
   "execution_count": 50,
   "id": "crude-albuquerque",
   "metadata": {},
   "outputs": [],
   "source": [
    "EXPLAIN SELECT * FROM empregado\n",
    "    WHERE salario > 4000;"
   ]
  },
  {
   "cell_type": "code",
   "execution_count": 49,
   "id": "native-breathing",
   "metadata": {},
   "outputs": [
    {
     "data": {
      "text/html": [
       "<table>\n",
       "<tr>\n",
       "<th>matricula</th>\n",
       "<th>primeironome</th>\n",
       "<th>sobrenome</th>\n",
       "<th>dataadmissao</th>\n",
       "<th>cargo</th>\n",
       "<th>salario</th>\n",
       "<th>gerente</th>\n",
       "<th>coddepto</th>\n",
       "</tr>\n",
       "<tr>\n",
       "<td>2</td>\n",
       "<td>José</td>\n",
       "<td>Batista</td>\n",
       "<td>Mon Mar 15 00:00:00 2021\n",
       "</td>\n",
       "<td>Analista de Sistemas Pleno</td>\n",
       "<td>4200,</td>\n",
       "<td>1</td>\n",
       "<td>1</td>\n",
       "</tr>\n",
       "<tr>\n",
       "<td>4</td>\n",
       "<td>Ricardo</td>\n",
       "<td>Neves</td>\n",
       "<td>Mon Mar 15 00:00:00 2021\n",
       "</td>\n",
       "<td>Analista de Sistemas Pleno</td>\n",
       "<td>4200,</td>\n",
       "<td>2</td>\n",
       "<td>1</td>\n",
       "</tr>\n",
       "<tr>\n",
       "<td>6</td>\n",
       "<td>Mariana</td>\n",
       "<td>Oliveira</td>\n",
       "<td>Mon Mar 15 00:00:00 2021\n",
       "</td>\n",
       "<td>Designer de Interface</td>\n",
       "<td>4800,</td>\n",
       "<td>1</td>\n",
       "<td>NULL</td>\n",
       "</tr>\n",
       "</table>\n",
       "3 rows in set (0,00 sec)"
      ],
      "text/plain": [
       "+-----------+--------------+-----------+---------------------------+----------------------------+---------+---------+----------+\n",
       "| matricula | primeironome | sobrenome | dataadmissao              | cargo                      | salario | gerente | coddepto |\n",
       "+-----------+--------------+-----------+---------------------------+----------------------------+---------+---------+----------+\n",
       "| 2         | José        | Batista   | Mon Mar 15 00:00:00 2021  | Analista de Sistemas Pleno | 4200,   | 1       | 1        |\n",
       "+-----------+--------------+-----------+---------------------------+----------------------------+---------+---------+----------+\n",
       "| 4         | Ricardo      | Neves     | Mon Mar 15 00:00:00 2021  | Analista de Sistemas Pleno | 4200,   | 2       | 1        |\n",
       "+-----------+--------------+-----------+---------------------------+----------------------------+---------+---------+----------+\n",
       "| 6         | Mariana      | Oliveira  | Mon Mar 15 00:00:00 2021  | Designer de Interface      | 4800,   | 1       | NULL     |\n",
       "+-----------+--------------+-----------+---------------------------+----------------------------+---------+---------+----------+\n",
       "3 rows in set (0,00 sec)"
      ]
     },
     "execution_count": 49,
     "metadata": {},
     "output_type": "execute_result"
    }
   ],
   "source": [
    "SELECT * FROM empregado\n",
    "    WHERE salario > 4000;"
   ]
  },
  {
   "cell_type": "code",
   "execution_count": null,
   "id": "identified-fence",
   "metadata": {},
   "outputs": [],
   "source": []
  }
 ],
 "metadata": {
  "kernelspec": {
   "display_name": "xsql",
   "language": "sqlite",
   "name": "xsql"
  },
  "language_info": {
   "codemirror_mode": "sql",
   "file_extension": "",
   "mimetype": "",
   "name": "mysql",
   "version": "0.0.8"
  }
 },
 "nbformat": 4,
 "nbformat_minor": 5
}
