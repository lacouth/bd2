{
 "cells": [
  {
   "cell_type": "code",
   "execution_count": 1,
   "id": "interested-twist",
   "metadata": {},
   "outputs": [],
   "source": [
    "%LOAD postgresql dbname=Filmes"
   ]
  },
  {
   "cell_type": "markdown",
   "id": "dying-noise",
   "metadata": {},
   "source": [
    "## Script SQL para a Tarefa 02 - Banco de Dados II 2020.2\n",
    "### 21/02/2021\n",
    "### Patric Lacouth - 20191370047"
   ]
  },
  {
   "cell_type": "markdown",
   "id": "starting-policy",
   "metadata": {},
   "source": [
    "### 1.  Faça inicialmente a seguinte inserção:\n",
    "``` SQL\n",
    "insert into filme values(default,'Superman',2018,120,null,3);\n",
    "```"
   ]
  },
  {
   "cell_type": "code",
   "execution_count": 4,
   "id": "duplicate-stuart",
   "metadata": {},
   "outputs": [],
   "source": [
    "INSERT INTO \n",
    "    filme(codfilme,titulo,ano,duracao,codcateg,codest)\n",
    "VALUES\n",
    "    (default,'Superman',2018,120,null,3);"
   ]
  },
  {
   "cell_type": "markdown",
   "id": "ethical-harvey",
   "metadata": {},
   "source": [
    "### 2. Verifique quais os títulos dos filmes que possuem duração maior que 120 min (0,5)?"
   ]
  },
  {
   "cell_type": "code",
   "execution_count": 6,
   "id": "wrong-tucson",
   "metadata": {},
   "outputs": [
    {
     "data": {
      "text/html": [
       "<table>\n",
       "<tr>\n",
       "<th>codfilme</th>\n",
       "<th>titulo</th>\n",
       "<th>ano</th>\n",
       "<th>duracao</th>\n",
       "<th>codcateg</th>\n",
       "<th>codest</th>\n",
       "</tr>\n",
       "<tr>\n",
       "<td>1</td>\n",
       "<td>Encontro Explosivo</td>\n",
       "<td>2010</td>\n",
       "<td>134</td>\n",
       "<td>4</td>\n",
       "<td>1</td>\n",
       "</tr>\n",
       "<tr>\n",
       "<td>2</td>\n",
       "<td>O Besouro Verde</td>\n",
       "<td>2010</td>\n",
       "<td>155</td>\n",
       "<td>1</td>\n",
       "<td>1</td>\n",
       "</tr>\n",
       "<tr>\n",
       "<td>3</td>\n",
       "<td>Comer, Rezar, Amar</td>\n",
       "<td>2010</td>\n",
       "<td>177</td>\n",
       "<td>2</td>\n",
       "<td>1</td>\n",
       "</tr>\n",
       "<tr>\n",
       "<td>4</td>\n",
       "<td>Coringa</td>\n",
       "<td>2019</td>\n",
       "<td>122</td>\n",
       "<td>6</td>\n",
       "<td>1</td>\n",
       "</tr>\n",
       "<tr>\n",
       "<td>8</td>\n",
       "<td>The Matrix</td>\n",
       "<td>1999</td>\n",
       "<td>130</td>\n",
       "<td>4</td>\n",
       "<td>5</td>\n",
       "</tr>\n",
       "<tr>\n",
       "<td>9</td>\n",
       "<td>Clube da Luta</td>\n",
       "<td>1999</td>\n",
       "<td>140</td>\n",
       "<td>4</td>\n",
       "<td>1</td>\n",
       "</tr>\n",
       "</table>\n",
       "6 rows in set (0,00 sec)"
      ],
      "text/plain": [
       "+----------+--------------------+------+---------+----------+--------+\n",
       "| codfilme | titulo             | ano  | duracao | codcateg | codest |\n",
       "+----------+--------------------+------+---------+----------+--------+\n",
       "| 1        | Encontro Explosivo | 2010 | 134     | 4        | 1      |\n",
       "+----------+--------------------+------+---------+----------+--------+\n",
       "| 2        | O Besouro Verde    | 2010 | 155     | 1        | 1      |\n",
       "+----------+--------------------+------+---------+----------+--------+\n",
       "| 3        | Comer, Rezar, Amar | 2010 | 177     | 2        | 1      |\n",
       "+----------+--------------------+------+---------+----------+--------+\n",
       "| 4        | Coringa            | 2019 | 122     | 6        | 1      |\n",
       "+----------+--------------------+------+---------+----------+--------+\n",
       "| 8        | The Matrix         | 1999 | 130     | 4        | 5      |\n",
       "+----------+--------------------+------+---------+----------+--------+\n",
       "| 9        | Clube da Luta      | 1999 | 140     | 4        | 1      |\n",
       "+----------+--------------------+------+---------+----------+--------+\n",
       "6 rows in set (0,00 sec)"
      ]
     },
     "execution_count": 6,
     "metadata": {},
     "output_type": "execute_result"
    }
   ],
   "source": [
    "SELECT * FROM filme WHERE(duracao > 120);"
   ]
  },
  {
   "cell_type": "markdown",
   "id": "classified-collection",
   "metadata": {},
   "source": [
    "### 3. Na tabela ARTISTA, quais artistas possuem cidade nula? Após a consulta, atualize as cidades nulas encontradas para três artistas (0,5).\n"
   ]
  },
  {
   "cell_type": "code",
   "execution_count": 7,
   "id": "documented-principle",
   "metadata": {},
   "outputs": [
    {
     "data": {
      "text/html": [
       "<table>\n",
       "<tr>\n",
       "<th>codart</th>\n",
       "<th>nomeart</th>\n",
       "<th>cidade</th>\n",
       "<th>pais</th>\n",
       "<th>datanasc</th>\n",
       "</tr>\n",
       "<tr>\n",
       "<td>1</td>\n",
       "<td>Cameron Diaz</td>\n",
       "<td>NULL</td>\n",
       "<td>USA</td>\n",
       "<td>Tue Jul 15 00:00:00 1975\n",
       "</td>\n",
       "</tr>\n",
       "<tr>\n",
       "<td>2</td>\n",
       "<td>Julia Roberts</td>\n",
       "<td>NULL</td>\n",
       "<td>USA</td>\n",
       "<td>Sat Aug 20 00:00:00 2067\n",
       "</td>\n",
       "</tr>\n",
       "<tr>\n",
       "<td>5</td>\n",
       "<td>Bradley Cooper</td>\n",
       "<td>NULL</td>\n",
       "<td>USA</td>\n",
       "<td>Mon Jun  6 00:00:00 1977\n",
       "</td>\n",
       "</tr>\n",
       "<tr>\n",
       "<td>6</td>\n",
       "<td>Tom Cruise</td>\n",
       "<td>NULL</td>\n",
       "<td>USA</td>\n",
       "<td>Wed Sep 10 00:00:00 2064\n",
       "</td>\n",
       "</tr>\n",
       "<tr>\n",
       "<td>3</td>\n",
       "<td>Brad Pitt</td>\n",
       "<td>NULL</td>\n",
       "<td>USA</td>\n",
       "<td>Thu Mar  5 00:00:00 1970\n",
       "</td>\n",
       "</tr>\n",
       "<tr>\n",
       "<td>4</td>\n",
       "<td>Joaquin Phoenix</td>\n",
       "<td>NULL</td>\n",
       "<td>USA</td>\n",
       "<td>Thu Apr  6 00:00:00 1972\n",
       "</td>\n",
       "</tr>\n",
       "</table>\n",
       "6 rows in set (0,00 sec)"
      ],
      "text/plain": [
       "+--------+-----------------+--------+------+---------------------------+\n",
       "| codart | nomeart         | cidade | pais | datanasc                  |\n",
       "+--------+-----------------+--------+------+---------------------------+\n",
       "| 1      | Cameron Diaz    | NULL   | USA  | Tue Jul 15 00:00:00 1975  |\n",
       "+--------+-----------------+--------+------+---------------------------+\n",
       "| 2      | Julia Roberts   | NULL   | USA  | Sat Aug 20 00:00:00 2067  |\n",
       "+--------+-----------------+--------+------+---------------------------+\n",
       "| 5      | Bradley Cooper  | NULL   | USA  | Mon Jun  6 00:00:00 1977  |\n",
       "+--------+-----------------+--------+------+---------------------------+\n",
       "| 6      | Tom Cruise      | NULL   | USA  | Wed Sep 10 00:00:00 2064  |\n",
       "+--------+-----------------+--------+------+---------------------------+\n",
       "| 3      | Brad Pitt       | NULL   | USA  | Thu Mar  5 00:00:00 1970  |\n",
       "+--------+-----------------+--------+------+---------------------------+\n",
       "| 4      | Joaquin Phoenix | NULL   | USA  | Thu Apr  6 00:00:00 1972  |\n",
       "+--------+-----------------+--------+------+---------------------------+\n",
       "6 rows in set (0,00 sec)"
      ]
     },
     "execution_count": 7,
     "metadata": {},
     "output_type": "execute_result"
    }
   ],
   "source": [
    "SELECT * FROM artista WHERE(cidade IS NULL);"
   ]
  },
  {
   "cell_type": "markdown",
   "id": "presidential-world",
   "metadata": {},
   "source": [
    "### 4. Qual a descrição da categoria do filme ‘Coringa’ (1,0)?"
   ]
  },
  {
   "cell_type": "code",
   "execution_count": 8,
   "id": "loose-thong",
   "metadata": {},
   "outputs": [
    {
     "data": {
      "text/html": [
       "<table>\n",
       "<tr>\n",
       "<th>descrição</th>\n",
       "</tr>\n",
       "<tr>\n",
       "<td>Drama</td>\n",
       "</tr>\n",
       "</table>\n",
       "1 row in set (0,00 sec)"
      ],
      "text/plain": [
       "+-------------+\n",
       "| descrição |\n",
       "+-------------+\n",
       "| Drama       |\n",
       "+-------------+\n",
       "1 row in set (0,00 sec)"
      ]
     },
     "execution_count": 8,
     "metadata": {},
     "output_type": "execute_result"
    }
   ],
   "source": [
    "SELECT c.desccateg AS descrição FROM\n",
    "    filme f JOIN categoria c ON f.codcateg = c.codcateg\n",
    "WHERE(f.titulo = 'Coringa');"
   ]
  },
  {
   "cell_type": "markdown",
   "id": "generic-migration",
   "metadata": {},
   "source": [
    "### 5. Mostre os títulos de filmes, seus estúdios e suas categorias (1,0)."
   ]
  },
  {
   "cell_type": "code",
   "execution_count": 21,
   "id": "defensive-wonder",
   "metadata": {},
   "outputs": [
    {
     "data": {
      "text/html": [
       "<table>\n",
       "<tr>\n",
       "<th>título</th>\n",
       "<th>estúdio</th>\n",
       "<th>desccateg</th>\n",
       "</tr>\n",
       "<tr>\n",
       "<td>Encontro Explosivo</td>\n",
       "<td>Paramount</td>\n",
       "<td>Ação</td>\n",
       "</tr>\n",
       "<tr>\n",
       "<td>O Besouro Verde</td>\n",
       "<td>Paramount</td>\n",
       "<td>Aventura</td>\n",
       "</tr>\n",
       "<tr>\n",
       "<td>Comer, Rezar, Amar</td>\n",
       "<td>Paramount</td>\n",
       "<td>Romance</td>\n",
       "</tr>\n",
       "<tr>\n",
       "<td>Coringa</td>\n",
       "<td>Paramount</td>\n",
       "<td>Drama</td>\n",
       "</tr>\n",
       "<tr>\n",
       "<td>Era uma vez em Hollywood</td>\n",
       "<td>Disney</td>\n",
       "<td>Ação</td>\n",
       "</tr>\n",
       "<tr>\n",
       "<td>Nasce uma estrela</td>\n",
       "<td>Paramount</td>\n",
       "<td>Drama</td>\n",
       "</tr>\n",
       "<tr>\n",
       "<td>PI</td>\n",
       "<td>Paramount</td>\n",
       "<td>Drama</td>\n",
       "</tr>\n",
       "<tr>\n",
       "<td>The Matrix</td>\n",
       "<td>Warner</td>\n",
       "<td>Ação</td>\n",
       "</tr>\n",
       "<tr>\n",
       "<td>Clube da Luta</td>\n",
       "<td>Paramount</td>\n",
       "<td>Ação</td>\n",
       "</tr>\n",
       "<tr>\n",
       "<td>Superman</td>\n",
       "<td>Universal</td>\n",
       "<td>NULL</td>\n",
       "</tr>\n",
       "</table>\n",
       "10 rows in set (0,00 sec)"
      ],
      "text/plain": [
       "+--------------------------+-----------+-----------+\n",
       "| título                  | estúdio  | desccateg |\n",
       "+--------------------------+-----------+-----------+\n",
       "| Encontro Explosivo       | Paramount | Ação    |\n",
       "+--------------------------+-----------+-----------+\n",
       "| O Besouro Verde          | Paramount | Aventura  |\n",
       "+--------------------------+-----------+-----------+\n",
       "| Comer, Rezar, Amar       | Paramount | Romance   |\n",
       "+--------------------------+-----------+-----------+\n",
       "| Coringa                  | Paramount | Drama     |\n",
       "+--------------------------+-----------+-----------+\n",
       "| Era uma vez em Hollywood | Disney    | Ação    |\n",
       "+--------------------------+-----------+-----------+\n",
       "| Nasce uma estrela        | Paramount | Drama     |\n",
       "+--------------------------+-----------+-----------+\n",
       "| PI                       | Paramount | Drama     |\n",
       "+--------------------------+-----------+-----------+\n",
       "| The Matrix               | Warner    | Ação    |\n",
       "+--------------------------+-----------+-----------+\n",
       "| Clube da Luta            | Paramount | Ação    |\n",
       "+--------------------------+-----------+-----------+\n",
       "| Superman                 | Universal | NULL      |\n",
       "+--------------------------+-----------+-----------+\n",
       "10 rows in set (0,00 sec)"
      ]
     },
     "execution_count": 21,
     "metadata": {},
     "output_type": "execute_result"
    }
   ],
   "source": [
    "SELECT f.titulo as título, e.nomeest as estúdio, c.desccateg FROM\n",
    "    filme f JOIN estudio e ON e.codest = f.codest \n",
    "    LEFT JOIN categoria c ON f.codcateg = c.codcateg;"
   ]
  },
  {
   "cell_type": "markdown",
   "id": "abstract-machinery",
   "metadata": {},
   "source": [
    "### 6. Qual o nome dos artistas que fizeram o filme ‘Encontro Explosivo’ (1,0)?"
   ]
  },
  {
   "cell_type": "code",
   "execution_count": 34,
   "id": "interracial-platform",
   "metadata": {},
   "outputs": [
    {
     "data": {
      "text/html": [
       "<table>\n",
       "<tr>\n",
       "<th>nome</th>\n",
       "</tr>\n",
       "<tr>\n",
       "<td>Cameron Diaz</td>\n",
       "</tr>\n",
       "<tr>\n",
       "<td>Julia Roberts</td>\n",
       "</tr>\n",
       "</table>\n",
       "2 rows in set (0,00 sec)"
      ],
      "text/plain": [
       "+---------------+\n",
       "| nome          |\n",
       "+---------------+\n",
       "| Cameron Diaz  |\n",
       "+---------------+\n",
       "| Julia Roberts |\n",
       "+---------------+\n",
       "2 rows in set (0,00 sec)"
      ]
     },
     "execution_count": 34,
     "metadata": {},
     "output_type": "execute_result"
    }
   ],
   "source": [
    "SELECT a.nomeart AS nome FROM\n",
    "    artista a JOIN personagem p ON a.codart = p.codart\n",
    "    JOIN filme f ON f.codfilme = p.codfilme\n",
    "WHERE(f.titulo = 'Encontro Explosivo');"
   ]
  },
  {
   "cell_type": "markdown",
   "id": "monthly-defendant",
   "metadata": {},
   "source": [
    "### 7. Selecione os artistas que têm o nome iniciando com a letra ‘B’ e participaram de filmes da categoria ‘Aventura’ (1,0).\n"
   ]
  },
  {
   "cell_type": "code",
   "execution_count": 45,
   "id": "annoying-honolulu",
   "metadata": {},
   "outputs": [
    {
     "data": {
      "text/html": [
       "</table>\n",
       "Empty set (0,00 sec)"
      ],
      "text/plain": [
       "\n",
       "Empty set (0,00 sec)"
      ]
     },
     "execution_count": 45,
     "metadata": {},
     "output_type": "execute_result"
    }
   ],
   "source": [
    "SELECT * FROM\n",
    "    artista a JOIN personagem p ON a.codart = p.codart\n",
    "    JOIN filme f ON p.codfilme = f.codfilme\n",
    "    JOIN categoria c ON c.codcateg = f.codcateg\n",
    "WHERE( (a.nomeart LIKE 'B%') AND (c.desccateg = 'Aventura') );"
   ]
  },
  {
   "cell_type": "markdown",
   "id": "gross-sweden",
   "metadata": {},
   "source": [
    "### 8. Apresente quantos filmes existem por categoria. Para isso mostre a descrição da categoria e sua respectiva contagem (1,0)."
   ]
  },
  {
   "cell_type": "code",
   "execution_count": 54,
   "id": "modular-pantyhose",
   "metadata": {},
   "outputs": [
    {
     "data": {
      "text/html": [
       "<table>\n",
       "<tr>\n",
       "<th>desccateg</th>\n",
       "<th>count</th>\n",
       "</tr>\n",
       "<tr>\n",
       "<td>Ação</td>\n",
       "<td>4</td>\n",
       "</tr>\n",
       "<tr>\n",
       "<td>Romance</td>\n",
       "<td>1</td>\n",
       "</tr>\n",
       "<tr>\n",
       "<td>Aventura</td>\n",
       "<td>1</td>\n",
       "</tr>\n",
       "<tr>\n",
       "<td>Drama</td>\n",
       "<td>3</td>\n",
       "</tr>\n",
       "</table>\n",
       "4 rows in set (0,00 sec)"
      ],
      "text/plain": [
       "+-----------+-------+\n",
       "| desccateg | count |\n",
       "+-----------+-------+\n",
       "| Ação    | 4     |\n",
       "+-----------+-------+\n",
       "| Romance   | 1     |\n",
       "+-----------+-------+\n",
       "| Aventura  | 1     |\n",
       "+-----------+-------+\n",
       "| Drama     | 3     |\n",
       "+-----------+-------+\n",
       "4 rows in set (0,00 sec)"
      ]
     },
     "execution_count": 54,
     "metadata": {},
     "output_type": "execute_result"
    }
   ],
   "source": [
    "SELECT c.desccateg, COUNT(*) FROM\n",
    "    filme f JOIN categoria c ON c.codcateg = f.codcateg\n",
    "GROUP BY c.desccateg;"
   ]
  },
  {
   "cell_type": "markdown",
   "id": "hundred-edinburgh",
   "metadata": {},
   "source": [
    "### 9. Altere a questão anterior acrescentando a cláusula “having”. Explique o que a consulta retorna no contexto que você implementou (1,0)"
   ]
  },
  {
   "cell_type": "code",
   "execution_count": 62,
   "id": "minute-devices",
   "metadata": {},
   "outputs": [
    {
     "data": {
      "text/html": [
       "<table>\n",
       "<tr>\n",
       "<th>desccateg</th>\n",
       "<th>total</th>\n",
       "</tr>\n",
       "<tr>\n",
       "<td>Ação</td>\n",
       "<td>4</td>\n",
       "</tr>\n",
       "<tr>\n",
       "<td>Drama</td>\n",
       "<td>3</td>\n",
       "</tr>\n",
       "</table>\n",
       "2 rows in set (0,00 sec)"
      ],
      "text/plain": [
       "+-----------+-------+\n",
       "| desccateg | total |\n",
       "+-----------+-------+\n",
       "| Ação    | 4     |\n",
       "+-----------+-------+\n",
       "| Drama     | 3     |\n",
       "+-----------+-------+\n",
       "2 rows in set (0,00 sec)"
      ]
     },
     "execution_count": 62,
     "metadata": {},
     "output_type": "execute_result"
    }
   ],
   "source": [
    "SELECT c.desccateg, COUNT(*) AS Total FROM\n",
    "    filme f JOIN categoria c ON c.codcateg = f.codcateg\n",
    "GROUP BY c.desccateg\n",
    "HAVING COUNT(*) > 1;"
   ]
  },
  {
   "cell_type": "markdown",
   "id": "absolute-harmony",
   "metadata": {},
   "source": [
    "A cláusula `HAVING` permite filtrar o resultado obtido pelo `GROUP BY` para obter apenas as categorias associadas com mais de um filme no banco de dados."
   ]
  },
  {
   "cell_type": "markdown",
   "id": "noted-dollar",
   "metadata": {},
   "source": [
    "### 10. O que o seguinte comando mostra (1,0)?\n",
    "```SQL\n",
    "select a.nomeart, p.nomepers\n",
    "from artista a left outer join personagem p on a.codart = p.codart;\n",
    "```"
   ]
  },
  {
   "cell_type": "code",
   "execution_count": 64,
   "id": "decreased-delta",
   "metadata": {},
   "outputs": [
    {
     "data": {
      "text/html": [
       "<table>\n",
       "<tr>\n",
       "<th>nomeart</th>\n",
       "<th>nomepers</th>\n",
       "</tr>\n",
       "<tr>\n",
       "<td>Cameron Diaz</td>\n",
       "<td>Natalie</td>\n",
       "</tr>\n",
       "<tr>\n",
       "<td>Julia Roberts</td>\n",
       "<td>Tom</td>\n",
       "</tr>\n",
       "<tr>\n",
       "<td>Brad Pitt</td>\n",
       "<td>John</td>\n",
       "</tr>\n",
       "<tr>\n",
       "<td>Julia Roberts</td>\n",
       "<td>Ana</td>\n",
       "</tr>\n",
       "<tr>\n",
       "<td>Bradley Cooper</td>\n",
       "<td>Tom</td>\n",
       "</tr>\n",
       "<tr>\n",
       "<td>Joaquin Phoenix</td>\n",
       "<td>John</td>\n",
       "</tr>\n",
       "<tr>\n",
       "<td>Fulano de Tal</td>\n",
       "<td>Neo</td>\n",
       "</tr>\n",
       "<tr>\n",
       "<td>Rick Martinez</td>\n",
       "<td>Rick</td>\n",
       "</tr>\n",
       "<tr>\n",
       "<td>Brad Pitt</td>\n",
       "<td>Tyler Durden</td>\n",
       "</tr>\n",
       "<tr>\n",
       "<td>Alessandra Negrini</td>\n",
       "<td>NULL</td>\n",
       "</tr>\n",
       "<tr>\n",
       "<td>Fernanda Montenegro</td>\n",
       "<td>NULL</td>\n",
       "</tr>\n",
       "<tr>\n",
       "<td>Tom Cruise</td>\n",
       "<td>NULL</td>\n",
       "</tr>\n",
       "<tr>\n",
       "<td>Rodrigo Santoro</td>\n",
       "<td>NULL</td>\n",
       "</tr>\n",
       "</table>\n",
       "13 rows in set (0,00 sec)"
      ],
      "text/plain": [
       "+---------------------+--------------+\n",
       "| nomeart             | nomepers     |\n",
       "+---------------------+--------------+\n",
       "| Cameron Diaz        | Natalie      |\n",
       "+---------------------+--------------+\n",
       "| Julia Roberts       | Tom          |\n",
       "+---------------------+--------------+\n",
       "| Brad Pitt           | John         |\n",
       "+---------------------+--------------+\n",
       "| Julia Roberts       | Ana          |\n",
       "+---------------------+--------------+\n",
       "| Bradley Cooper      | Tom          |\n",
       "+---------------------+--------------+\n",
       "| Joaquin Phoenix     | John         |\n",
       "+---------------------+--------------+\n",
       "| Fulano de Tal       | Neo          |\n",
       "+---------------------+--------------+\n",
       "| Rick Martinez       | Rick         |\n",
       "+---------------------+--------------+\n",
       "| Brad Pitt           | Tyler Durden |\n",
       "+---------------------+--------------+\n",
       "| Alessandra Negrini  | NULL         |\n",
       "+---------------------+--------------+\n",
       "| Fernanda Montenegro | NULL         |\n",
       "+---------------------+--------------+\n",
       "| Tom Cruise          | NULL         |\n",
       "+---------------------+--------------+\n",
       "| Rodrigo Santoro     | NULL         |\n",
       "+---------------------+--------------+\n",
       "13 rows in set (0,00 sec)"
      ]
     },
     "execution_count": 64,
     "metadata": {},
     "output_type": "execute_result"
    }
   ],
   "source": [
    "SELECT a.nomeart, p.nomepers FROM\n",
    "    artista a LEFT OUTER JOIN personagem p ON a.codart = p.codart;"
   ]
  },
  {
   "cell_type": "markdown",
   "id": "compatible-chocolate",
   "metadata": {},
   "source": [
    "O comando mostra o nome de todos os artitas relacionado com seus personagens, mesmo que o artista não tenha nenhum personagem associado."
   ]
  },
  {
   "cell_type": "markdown",
   "id": "relevant-portable",
   "metadata": {},
   "source": [
    "### 11. O que a seguinte consulta retorna (1,0)?\n",
    "```SQL\n",
    "Select f.titulo as Filme, c.desccateg as Categoria\n",
    "From filme f right join categoria c on f.codcateg = c.codcateg\n",
    "Where c.codcateg is null;\n",
    "```"
   ]
  },
  {
   "cell_type": "code",
   "execution_count": 70,
   "id": "distinct-obligation",
   "metadata": {},
   "outputs": [
    {
     "data": {
      "text/html": [
       "</table>\n",
       "Empty set (0,00 sec)"
      ],
      "text/plain": [
       "\n",
       "Empty set (0,00 sec)"
      ]
     },
     "execution_count": 70,
     "metadata": {},
     "output_type": "execute_result"
    }
   ],
   "source": [
    "SELECT f.titulo AS Filme, c.desccateg AS Categoria\n",
    "    FROM filme f RIGHT JOIN categoria c ON f.codcateg = c.codcateg\n",
    "WHERE c.codcateg IS NULL;"
   ]
  },
  {
   "cell_type": "markdown",
   "id": "civil-intensity",
   "metadata": {},
   "source": [
    "A consulta retorna uma tabela vazia por causa do `RIGHT JOIN` que impede que o registro que possua categoria `NULL`seja apresentado, uma vez que a tabela que contém o `NULL` está a direita da consulta. Abaixo está o resultado da consulta com `LEFT JOIN`."
   ]
  },
  {
   "cell_type": "code",
   "execution_count": 71,
   "id": "north-density",
   "metadata": {},
   "outputs": [
    {
     "data": {
      "text/html": [
       "<table>\n",
       "<tr>\n",
       "<th>filme</th>\n",
       "<th>categoria</th>\n",
       "</tr>\n",
       "<tr>\n",
       "<td>Superman</td>\n",
       "<td>NULL</td>\n",
       "</tr>\n",
       "</table>\n",
       "1 row in set (0,00 sec)"
      ],
      "text/plain": [
       "+----------+-----------+\n",
       "| filme    | categoria |\n",
       "+----------+-----------+\n",
       "| Superman | NULL      |\n",
       "+----------+-----------+\n",
       "1 row in set (0,00 sec)"
      ]
     },
     "execution_count": 71,
     "metadata": {},
     "output_type": "execute_result"
    }
   ],
   "source": [
    "SELECT f.titulo AS Filme, c.desccateg AS Categoria\n",
    "    FROM filme f LEFT JOIN categoria c ON f.codcateg = c.codcateg\n",
    "WHERE c.codcateg IS NULL;"
   ]
  },
  {
   "cell_type": "markdown",
   "id": "analyzed-eligibility",
   "metadata": {},
   "source": [
    "### 12. Crie uma consulta sua ao banco Filmes. Use operadores SQL e algum tipo de JOIN. Formule o enunciado da consulta e mostre sua solução em SQL (1,0)."
   ]
  },
  {
   "cell_type": "markdown",
   "id": "private-analysis",
   "metadata": {},
   "source": [
    "**Qual o total gasto em cache por cada estúdio?**"
   ]
  },
  {
   "cell_type": "code",
   "execution_count": 80,
   "id": "fluid-communication",
   "metadata": {},
   "outputs": [
    {
     "data": {
      "text/html": [
       "<table>\n",
       "<tr>\n",
       "<th>estudio</th>\n",
       "<th>cache</th>\n",
       "</tr>\n",
       "<tr>\n",
       "<td>Paramount</td>\n",
       "<td>286465,</td>\n",
       "</tr>\n",
       "<tr>\n",
       "<td>Warner</td>\n",
       "<td>172500,</td>\n",
       "</tr>\n",
       "<tr>\n",
       "<td>Disney</td>\n",
       "<td>11500,</td>\n",
       "</tr>\n",
       "</table>\n",
       "3 rows in set (0,00 sec)"
      ],
      "text/plain": [
       "+-----------+---------+\n",
       "| estudio   | cache   |\n",
       "+-----------+---------+\n",
       "| Paramount | 286465, |\n",
       "+-----------+---------+\n",
       "| Warner    | 172500, |\n",
       "+-----------+---------+\n",
       "| Disney    | 11500,  |\n",
       "+-----------+---------+\n",
       "3 rows in set (0,00 sec)"
      ]
     },
     "execution_count": 80,
     "metadata": {},
     "output_type": "execute_result"
    }
   ],
   "source": [
    "SELECT e.nomeest AS estudio, SUM(p.cache) AS cache FROM\n",
    "    filme f JOIN personagem p ON f.codfilme = p.codfilme\n",
    "    JOIN estudio e ON f.codest = e.codest\n",
    "GROUP BY e.nomeest\n",
    "ORDER BY SUM(p.cache) DESC"
   ]
  }
 ],
 "metadata": {
  "kernelspec": {
   "display_name": "xsql",
   "language": "sqlite",
   "name": "xsql"
  },
  "language_info": {
   "codemirror_mode": "sql",
   "file_extension": "",
   "mimetype": "",
   "name": "mysql",
   "version": "0.0.8"
  }
 },
 "nbformat": 4,
 "nbformat_minor": 5
}
